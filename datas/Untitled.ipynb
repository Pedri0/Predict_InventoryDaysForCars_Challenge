{
 "cells": [
  {
   "cell_type": "markdown",
   "id": "9b4eccc9",
   "metadata": {},
   "source": [
    "# Inventory Days\n",
    "\n",
    "You are tasked with predicting how long the cars in the dataset ```test_cars.csv``` will remain in inventory (Days in Inventory or DI) before being sold. To do so, you must review the code used to generate a Machine Learning model of the historical data in ```train_cars.csv``` and generate a table of predictions for stakeholders to use with the same format as ```sample_submission.csv```. This prediction is incredibly important to the business and even a 1% improvement can have a large impact on margins. \n",
    "\n",
    "Sample code is provided that was written by another department but the stakeholders who are using the predictions of how long a car will stay in inventory have complained that:\n",
    "\n",
    "1) The analysis presented to them (see graph in the notebook) gave them the impression that the model was highly accurate but they are finding that it consistently underestimates DI and error is higher than expected.\n",
    "\n",
    "2) When they reviewed the code they did not understand what each line of code was doing or how to fix it\n",
    "\n",
    "3) They believe there is other information that might be useful for predicting inventory days and would like brief summary of how to improve the model in the future\n",
    "\n",
    "The goal of this project is to address the stakeholders' concerns and build a model that they can trust. The dataset is 100% generated synthetically, however the challenge is very similar to one you might face in Kavak.\n",
    "\n",
    "To complete the challenge send a finished Notebook as well as a submissions.csv file with your predictions from the ```test_cars.csv```"
   ]
  },
  {
   "cell_type": "code",
   "execution_count": 1,
   "id": "8122d1f3",
   "metadata": {},
   "outputs": [
    {
     "name": "stderr",
     "output_type": "stream",
     "text": [
      "In C:\\ProgramData\\Anaconda3\\lib\\site-packages\\matplotlib\\mpl-data\\stylelib\\_classic_test.mplstyle: \n",
      "The text.latex.preview rcparam was deprecated in Matplotlib 3.3 and will be removed two minor releases later.\n",
      "In C:\\ProgramData\\Anaconda3\\lib\\site-packages\\matplotlib\\mpl-data\\stylelib\\_classic_test.mplstyle: \n",
      "The mathtext.fallback_to_cm rcparam was deprecated in Matplotlib 3.3 and will be removed two minor releases later.\n",
      "In C:\\ProgramData\\Anaconda3\\lib\\site-packages\\matplotlib\\mpl-data\\stylelib\\_classic_test.mplstyle: Support for setting the 'mathtext.fallback_to_cm' rcParam is deprecated since 3.3 and will be removed two minor releases later; use 'mathtext.fallback : 'cm' instead.\n",
      "In C:\\ProgramData\\Anaconda3\\lib\\site-packages\\matplotlib\\mpl-data\\stylelib\\_classic_test.mplstyle: \n",
      "The validate_bool_maybe_none function was deprecated in Matplotlib 3.3 and will be removed two minor releases later.\n",
      "In C:\\ProgramData\\Anaconda3\\lib\\site-packages\\matplotlib\\mpl-data\\stylelib\\_classic_test.mplstyle: \n",
      "The savefig.jpeg_quality rcparam was deprecated in Matplotlib 3.3 and will be removed two minor releases later.\n",
      "In C:\\ProgramData\\Anaconda3\\lib\\site-packages\\matplotlib\\mpl-data\\stylelib\\_classic_test.mplstyle: \n",
      "The keymap.all_axes rcparam was deprecated in Matplotlib 3.3 and will be removed two minor releases later.\n",
      "In C:\\ProgramData\\Anaconda3\\lib\\site-packages\\matplotlib\\mpl-data\\stylelib\\_classic_test.mplstyle: \n",
      "The animation.avconv_path rcparam was deprecated in Matplotlib 3.3 and will be removed two minor releases later.\n",
      "In C:\\ProgramData\\Anaconda3\\lib\\site-packages\\matplotlib\\mpl-data\\stylelib\\_classic_test.mplstyle: \n",
      "The animation.avconv_args rcparam was deprecated in Matplotlib 3.3 and will be removed two minor releases later.\n"
     ]
    }
   ],
   "source": [
    "import pandas as pd\n",
    "import numpy as np\n",
    "import seaborn as sns\n",
    "from matplotlib import pyplot as plt"
   ]
  },
  {
   "cell_type": "markdown",
   "id": "8b6f0970",
   "metadata": {},
   "source": [
    "# Code to Review"
   ]
  },
  {
   "cell_type": "markdown",
   "id": "96823b64",
   "metadata": {},
   "source": [
    "## Loading data"
   ]
  },
  {
   "cell_type": "code",
   "execution_count": 79,
   "id": "06857c1e",
   "metadata": {},
   "outputs": [
    {
     "name": "stdout",
     "output_type": "stream",
     "text": [
      "car_type         object\n",
      "average_price     int64\n",
      "transmission     object\n",
      "body_type        object\n",
      "dtype: object\n"
     ]
    },
    {
     "data": {
      "text/html": [
       "<div>\n",
       "<style scoped>\n",
       "    .dataframe tbody tr th:only-of-type {\n",
       "        vertical-align: middle;\n",
       "    }\n",
       "\n",
       "    .dataframe tbody tr th {\n",
       "        vertical-align: top;\n",
       "    }\n",
       "\n",
       "    .dataframe thead th {\n",
       "        text-align: right;\n",
       "    }\n",
       "</style>\n",
       "<table border=\"1\" class=\"dataframe\">\n",
       "  <thead>\n",
       "    <tr style=\"text-align: right;\">\n",
       "      <th></th>\n",
       "      <th>car_type</th>\n",
       "      <th>average_price</th>\n",
       "      <th>transmission</th>\n",
       "      <th>body_type</th>\n",
       "    </tr>\n",
       "  </thead>\n",
       "  <tbody>\n",
       "    <tr>\n",
       "      <th>0</th>\n",
       "      <td>GMC_Sierra_2009</td>\n",
       "      <td>706981</td>\n",
       "      <td>Automatic</td>\n",
       "      <td>Sedan</td>\n",
       "    </tr>\n",
       "    <tr>\n",
       "      <th>1</th>\n",
       "      <td>Ford_Edge_2014</td>\n",
       "      <td>868193</td>\n",
       "      <td>Automatic</td>\n",
       "      <td>Sedan</td>\n",
       "    </tr>\n",
       "    <tr>\n",
       "      <th>2</th>\n",
       "      <td>Honda_City_2018</td>\n",
       "      <td>671272</td>\n",
       "      <td>Manual</td>\n",
       "      <td>SUV</td>\n",
       "    </tr>\n",
       "    <tr>\n",
       "      <th>3</th>\n",
       "      <td>Renault_Twizy_2019</td>\n",
       "      <td>204486</td>\n",
       "      <td>Automatic</td>\n",
       "      <td>Sedan</td>\n",
       "    </tr>\n",
       "    <tr>\n",
       "      <th>4</th>\n",
       "      <td>Giant_Giant GF-8_2008</td>\n",
       "      <td>701787</td>\n",
       "      <td>Manual</td>\n",
       "      <td>Sedan</td>\n",
       "    </tr>\n",
       "    <tr>\n",
       "      <th>5</th>\n",
       "      <td>Nissan_Tsuru_2009</td>\n",
       "      <td>505127</td>\n",
       "      <td>Automatic</td>\n",
       "      <td>SUV</td>\n",
       "    </tr>\n",
       "    <tr>\n",
       "      <th>6</th>\n",
       "      <td>Ford_Focus_2018</td>\n",
       "      <td>680265</td>\n",
       "      <td>Automatic</td>\n",
       "      <td>SUV</td>\n",
       "    </tr>\n",
       "    <tr>\n",
       "      <th>7</th>\n",
       "      <td>Audi_A3 Sportback_2010</td>\n",
       "      <td>618739</td>\n",
       "      <td>Manual</td>\n",
       "      <td>Coupe</td>\n",
       "    </tr>\n",
       "    <tr>\n",
       "      <th>8</th>\n",
       "      <td>Volkswagen_Gol_2011</td>\n",
       "      <td>912348</td>\n",
       "      <td>Automatic</td>\n",
       "      <td>SUV</td>\n",
       "    </tr>\n",
       "    <tr>\n",
       "      <th>9</th>\n",
       "      <td>Mitsubishi_Outlander_2016</td>\n",
       "      <td>195169</td>\n",
       "      <td>Manual</td>\n",
       "      <td>Coupe</td>\n",
       "    </tr>\n",
       "  </tbody>\n",
       "</table>\n",
       "</div>"
      ],
      "text/plain": [
       "                    car_type  average_price transmission body_type\n",
       "0            GMC_Sierra_2009         706981    Automatic     Sedan\n",
       "1             Ford_Edge_2014         868193    Automatic     Sedan\n",
       "2            Honda_City_2018         671272       Manual       SUV\n",
       "3         Renault_Twizy_2019         204486    Automatic     Sedan\n",
       "4      Giant_Giant GF-8_2008         701787       Manual     Sedan\n",
       "5          Nissan_Tsuru_2009         505127    Automatic       SUV\n",
       "6            Ford_Focus_2018         680265    Automatic       SUV\n",
       "7     Audi_A3 Sportback_2010         618739       Manual     Coupe\n",
       "8        Volkswagen_Gol_2011         912348    Automatic       SUV\n",
       "9  Mitsubishi_Outlander_2016         195169       Manual     Coupe"
      ]
     },
     "execution_count": 79,
     "metadata": {},
     "output_type": "execute_result"
    }
   ],
   "source": [
    "#Carga la base de datos de autos en el cual se describen propiedades generales de los mismos\n",
    "skus = pd.read_csv('car_type_characteristics.csv')\n",
    "\n",
    "#Muestra el tipo de datos por columnas es importante para evitar errores!\n",
    "print(skus.dtypes)\n",
    "\n",
    "#muestra una porcion de datos \n",
    "skus.head(10)"
   ]
  },
  {
   "cell_type": "code",
   "execution_count": 80,
   "id": "f0444e3d",
   "metadata": {},
   "outputs": [
    {
     "data": {
      "text/html": [
       "<div>\n",
       "<style scoped>\n",
       "    .dataframe tbody tr th:only-of-type {\n",
       "        vertical-align: middle;\n",
       "    }\n",
       "\n",
       "    .dataframe tbody tr th {\n",
       "        vertical-align: top;\n",
       "    }\n",
       "\n",
       "    .dataframe thead th {\n",
       "        text-align: right;\n",
       "    }\n",
       "</style>\n",
       "<table border=\"1\" class=\"dataframe\">\n",
       "  <thead>\n",
       "    <tr style=\"text-align: right;\">\n",
       "      <th></th>\n",
       "      <th>car_type</th>\n",
       "      <th>average_price</th>\n",
       "      <th>transmission</th>\n",
       "      <th>body_type</th>\n",
       "    </tr>\n",
       "  </thead>\n",
       "  <tbody>\n",
       "    <tr>\n",
       "      <th>383</th>\n",
       "      <td>Porsche_911_2014</td>\n",
       "      <td>160336</td>\n",
       "      <td>Automatic</td>\n",
       "      <td>Sedan</td>\n",
       "    </tr>\n",
       "    <tr>\n",
       "      <th>589</th>\n",
       "      <td>Seat_Freetrack_2010</td>\n",
       "      <td>559715</td>\n",
       "      <td>Automatic</td>\n",
       "      <td>Sedan</td>\n",
       "    </tr>\n",
       "    <tr>\n",
       "      <th>190</th>\n",
       "      <td>Toyota_Prius_2011</td>\n",
       "      <td>257152</td>\n",
       "      <td>Automatic</td>\n",
       "      <td>Sedan</td>\n",
       "    </tr>\n",
       "    <tr>\n",
       "      <th>219</th>\n",
       "      <td>Volkswagen_Gol_2009</td>\n",
       "      <td>568601</td>\n",
       "      <td>Automatic</td>\n",
       "      <td>SUV</td>\n",
       "    </tr>\n",
       "    <tr>\n",
       "      <th>621</th>\n",
       "      <td>Land Rover_Range Rover_2018</td>\n",
       "      <td>225292</td>\n",
       "      <td>Automatic</td>\n",
       "      <td>Sedan</td>\n",
       "    </tr>\n",
       "    <tr>\n",
       "      <th>651</th>\n",
       "      <td>Peugeot_5008_2020</td>\n",
       "      <td>435855</td>\n",
       "      <td>Automatic</td>\n",
       "      <td>Sedan</td>\n",
       "    </tr>\n",
       "    <tr>\n",
       "      <th>285</th>\n",
       "      <td>Ford_Eco Sport_2015</td>\n",
       "      <td>313648</td>\n",
       "      <td>Automatic</td>\n",
       "      <td>Sedan</td>\n",
       "    </tr>\n",
       "    <tr>\n",
       "      <th>200</th>\n",
       "      <td>Land Rover_Range Rover Evoque_2019</td>\n",
       "      <td>499042</td>\n",
       "      <td>Automatic</td>\n",
       "      <td>SUV</td>\n",
       "    </tr>\n",
       "    <tr>\n",
       "      <th>115</th>\n",
       "      <td>Honda_CR-V_2018</td>\n",
       "      <td>779453</td>\n",
       "      <td>Automatic</td>\n",
       "      <td>Sedan</td>\n",
       "    </tr>\n",
       "    <tr>\n",
       "      <th>178</th>\n",
       "      <td>Chevrolet_Tahoe_2009</td>\n",
       "      <td>405787</td>\n",
       "      <td>Manual</td>\n",
       "      <td>Sedan</td>\n",
       "    </tr>\n",
       "  </tbody>\n",
       "</table>\n",
       "</div>"
      ],
      "text/plain": [
       "                               car_type  average_price transmission body_type\n",
       "383                    Porsche_911_2014         160336    Automatic     Sedan\n",
       "589                 Seat_Freetrack_2010         559715    Automatic     Sedan\n",
       "190                   Toyota_Prius_2011         257152    Automatic     Sedan\n",
       "219                 Volkswagen_Gol_2009         568601    Automatic       SUV\n",
       "621         Land Rover_Range Rover_2018         225292    Automatic     Sedan\n",
       "651                   Peugeot_5008_2020         435855    Automatic     Sedan\n",
       "285                 Ford_Eco Sport_2015         313648    Automatic     Sedan\n",
       "200  Land Rover_Range Rover Evoque_2019         499042    Automatic       SUV\n",
       "115                     Honda_CR-V_2018         779453    Automatic     Sedan\n",
       "178                Chevrolet_Tahoe_2009         405787       Manual     Sedan"
      ]
     },
     "execution_count": 80,
     "metadata": {},
     "output_type": "execute_result"
    }
   ],
   "source": [
    "#skus.sample(n=10)"
   ]
  },
  {
   "cell_type": "code",
   "execution_count": 81,
   "id": "b6b6e86c",
   "metadata": {},
   "outputs": [
    {
     "name": "stdout",
     "output_type": "stream",
     "text": [
      "car_id      object\n",
      "car_type    object\n",
      "color       object\n",
      "year         int64\n",
      "km           int64\n",
      "dtype: object\n"
     ]
    },
    {
     "data": {
      "text/html": [
       "<div>\n",
       "<style scoped>\n",
       "    .dataframe tbody tr th:only-of-type {\n",
       "        vertical-align: middle;\n",
       "    }\n",
       "\n",
       "    .dataframe tbody tr th {\n",
       "        vertical-align: top;\n",
       "    }\n",
       "\n",
       "    .dataframe thead th {\n",
       "        text-align: right;\n",
       "    }\n",
       "</style>\n",
       "<table border=\"1\" class=\"dataframe\">\n",
       "  <thead>\n",
       "    <tr style=\"text-align: right;\">\n",
       "      <th></th>\n",
       "      <th>car_id</th>\n",
       "      <th>car_type</th>\n",
       "      <th>color</th>\n",
       "      <th>year</th>\n",
       "      <th>km</th>\n",
       "    </tr>\n",
       "  </thead>\n",
       "  <tbody>\n",
       "    <tr>\n",
       "      <th>0</th>\n",
       "      <td>0</td>\n",
       "      <td>Toyota_Supra_2020</td>\n",
       "      <td>Blue</td>\n",
       "      <td>2020</td>\n",
       "      <td>25848512</td>\n",
       "    </tr>\n",
       "    <tr>\n",
       "      <th>1</th>\n",
       "      <td>112</td>\n",
       "      <td>Toyota_Supra_2020</td>\n",
       "      <td>Black</td>\n",
       "      <td>2020</td>\n",
       "      <td>25913421</td>\n",
       "    </tr>\n",
       "    <tr>\n",
       "      <th>2</th>\n",
       "      <td>1497</td>\n",
       "      <td>Toyota_Supra_2020</td>\n",
       "      <td>Black</td>\n",
       "      <td>2020</td>\n",
       "      <td>24069281</td>\n",
       "    </tr>\n",
       "    <tr>\n",
       "      <th>3</th>\n",
       "      <td>1891</td>\n",
       "      <td>Toyota_Supra_2020</td>\n",
       "      <td>Blue</td>\n",
       "      <td>2020</td>\n",
       "      <td>21828354</td>\n",
       "    </tr>\n",
       "    <tr>\n",
       "      <th>4</th>\n",
       "      <td>1955</td>\n",
       "      <td>Toyota_Supra_2020</td>\n",
       "      <td>Black</td>\n",
       "      <td>2020</td>\n",
       "      <td>25620849</td>\n",
       "    </tr>\n",
       "    <tr>\n",
       "      <th>5</th>\n",
       "      <td>2435</td>\n",
       "      <td>Toyota_Supra_2020</td>\n",
       "      <td>Blue</td>\n",
       "      <td>2020</td>\n",
       "      <td>19606492</td>\n",
       "    </tr>\n",
       "    <tr>\n",
       "      <th>6</th>\n",
       "      <td>2645</td>\n",
       "      <td>Toyota_Supra_2020</td>\n",
       "      <td>White</td>\n",
       "      <td>2020</td>\n",
       "      <td>21322640</td>\n",
       "    </tr>\n",
       "    <tr>\n",
       "      <th>7</th>\n",
       "      <td>3640</td>\n",
       "      <td>Toyota_Supra_2020</td>\n",
       "      <td>Black</td>\n",
       "      <td>2020</td>\n",
       "      <td>27858456</td>\n",
       "    </tr>\n",
       "    <tr>\n",
       "      <th>8</th>\n",
       "      <td>3743</td>\n",
       "      <td>Toyota_Supra_2020</td>\n",
       "      <td>Red</td>\n",
       "      <td>2020</td>\n",
       "      <td>20518362</td>\n",
       "    </tr>\n",
       "    <tr>\n",
       "      <th>9</th>\n",
       "      <td>4405</td>\n",
       "      <td>Toyota_Supra_2020</td>\n",
       "      <td>White</td>\n",
       "      <td>2020</td>\n",
       "      <td>24583516</td>\n",
       "    </tr>\n",
       "  </tbody>\n",
       "</table>\n",
       "</div>"
      ],
      "text/plain": [
       "  car_id           car_type  color  year        km\n",
       "0      0  Toyota_Supra_2020   Blue  2020  25848512\n",
       "1    112  Toyota_Supra_2020  Black  2020  25913421\n",
       "2   1497  Toyota_Supra_2020  Black  2020  24069281\n",
       "3   1891  Toyota_Supra_2020   Blue  2020  21828354\n",
       "4   1955  Toyota_Supra_2020  Black  2020  25620849\n",
       "5   2435  Toyota_Supra_2020   Blue  2020  19606492\n",
       "6   2645  Toyota_Supra_2020  White  2020  21322640\n",
       "7   3640  Toyota_Supra_2020  Black  2020  27858456\n",
       "8   3743  Toyota_Supra_2020    Red  2020  20518362\n",
       "9   4405  Toyota_Supra_2020  White  2020  24583516"
      ]
     },
     "execution_count": 81,
     "metadata": {},
     "output_type": "execute_result"
    }
   ],
   "source": [
    "#Carga la base de datos de autos que en algun momento pudieron estar o estan en nuestro garage\n",
    "avalaible_cars = pd.read_csv('cars.csv')\n",
    "\n",
    "#Muestra el tipo de datos por columnas es importante para evitar errores!\n",
    "print(avalaible_cars.dtypes)\n",
    "\n",
    "#Esta linea de codigo es incorrecta, pues al revisar el tipo de aquellas columnas que pueden\n",
    "#considerarse como un string son del tipo object, por lo que hacer este cambio podria introducir\n",
    "#error al momento de combinar estos dos tipos\n",
    "#avalaible_cars['car_id'] = avalaible_cars.car_id.astype('string')\n",
    "\n",
    "#muestra una porcion del historico de coches\n",
    "avalaible_cars.head(10)"
   ]
  },
  {
   "cell_type": "code",
   "execution_count": 83,
   "id": "3632c395",
   "metadata": {},
   "outputs": [
    {
     "data": {
      "text/html": [
       "<div>\n",
       "<style scoped>\n",
       "    .dataframe tbody tr th:only-of-type {\n",
       "        vertical-align: middle;\n",
       "    }\n",
       "\n",
       "    .dataframe tbody tr th {\n",
       "        vertical-align: top;\n",
       "    }\n",
       "\n",
       "    .dataframe thead th {\n",
       "        text-align: right;\n",
       "    }\n",
       "</style>\n",
       "<table border=\"1\" class=\"dataframe\">\n",
       "  <thead>\n",
       "    <tr style=\"text-align: right;\">\n",
       "      <th></th>\n",
       "      <th>car_id</th>\n",
       "      <th>car_type</th>\n",
       "      <th>color</th>\n",
       "      <th>year</th>\n",
       "      <th>km</th>\n",
       "    </tr>\n",
       "  </thead>\n",
       "  <tbody>\n",
       "    <tr>\n",
       "      <th>19343</th>\n",
       "      <td>12523</td>\n",
       "      <td>Toyota_Tundra_2008</td>\n",
       "      <td>Black</td>\n",
       "      <td>2008</td>\n",
       "      <td>4252843</td>\n",
       "    </tr>\n",
       "    <tr>\n",
       "      <th>14522</th>\n",
       "      <td>7121</td>\n",
       "      <td>Land Rover_Range Rover Evoque_2018</td>\n",
       "      <td>White</td>\n",
       "      <td>2018</td>\n",
       "      <td>18906841</td>\n",
       "    </tr>\n",
       "    <tr>\n",
       "      <th>4798</th>\n",
       "      <td>1748</td>\n",
       "      <td>Audi_A6_2008</td>\n",
       "      <td>Black</td>\n",
       "      <td>2008</td>\n",
       "      <td>23969430</td>\n",
       "    </tr>\n",
       "    <tr>\n",
       "      <th>6295</th>\n",
       "      <td>4110</td>\n",
       "      <td>Chevrolet_Express Cargo Van_2014</td>\n",
       "      <td>Black</td>\n",
       "      <td>2014</td>\n",
       "      <td>16964264</td>\n",
       "    </tr>\n",
       "    <tr>\n",
       "      <th>14740</th>\n",
       "      <td>17629</td>\n",
       "      <td>Toyota_Prius_2011</td>\n",
       "      <td>Blue</td>\n",
       "      <td>2011</td>\n",
       "      <td>26968021</td>\n",
       "    </tr>\n",
       "    <tr>\n",
       "      <th>8041</th>\n",
       "      <td>4317</td>\n",
       "      <td>Volkswagen_Gol_2011</td>\n",
       "      <td>White</td>\n",
       "      <td>2011</td>\n",
       "      <td>15105070</td>\n",
       "    </tr>\n",
       "    <tr>\n",
       "      <th>7799</th>\n",
       "      <td>15666</td>\n",
       "      <td>Seat_Altea XL_2014</td>\n",
       "      <td>Black</td>\n",
       "      <td>2014</td>\n",
       "      <td>23546279</td>\n",
       "    </tr>\n",
       "    <tr>\n",
       "      <th>14506</th>\n",
       "      <td>14971</td>\n",
       "      <td>Hummer_Hummer_2008</td>\n",
       "      <td>Red</td>\n",
       "      <td>2008</td>\n",
       "      <td>15255694</td>\n",
       "    </tr>\n",
       "    <tr>\n",
       "      <th>14932</th>\n",
       "      <td>2075</td>\n",
       "      <td>Land Rover_Range Rover Sport_2015</td>\n",
       "      <td>Red</td>\n",
       "      <td>2015</td>\n",
       "      <td>26361482</td>\n",
       "    </tr>\n",
       "    <tr>\n",
       "      <th>8108</th>\n",
       "      <td>6096</td>\n",
       "      <td>Chevrolet_Camaro_2018</td>\n",
       "      <td>Red</td>\n",
       "      <td>2018</td>\n",
       "      <td>15932028</td>\n",
       "    </tr>\n",
       "  </tbody>\n",
       "</table>\n",
       "</div>"
      ],
      "text/plain": [
       "      car_id                            car_type  color  year        km\n",
       "19343  12523                  Toyota_Tundra_2008  Black  2008   4252843\n",
       "14522   7121  Land Rover_Range Rover Evoque_2018  White  2018  18906841\n",
       "4798    1748                        Audi_A6_2008  Black  2008  23969430\n",
       "6295    4110    Chevrolet_Express Cargo Van_2014  Black  2014  16964264\n",
       "14740  17629                   Toyota_Prius_2011   Blue  2011  26968021\n",
       "8041    4317                 Volkswagen_Gol_2011  White  2011  15105070\n",
       "7799   15666                  Seat_Altea XL_2014  Black  2014  23546279\n",
       "14506  14971                  Hummer_Hummer_2008    Red  2008  15255694\n",
       "14932   2075   Land Rover_Range Rover Sport_2015    Red  2015  26361482\n",
       "8108    6096               Chevrolet_Camaro_2018    Red  2018  15932028"
      ]
     },
     "execution_count": 83,
     "metadata": {},
     "output_type": "execute_result"
    }
   ],
   "source": [
    "#avalaible_cars.sample(n = 10)"
   ]
  },
  {
   "cell_type": "code",
   "execution_count": 84,
   "id": "1c838fa9",
   "metadata": {},
   "outputs": [
    {
     "name": "stdout",
     "output_type": "stream",
     "text": [
      "day       object\n",
      "car_id    object\n",
      "price      int64\n",
      "sold        bool\n",
      "dtype: object\n"
     ]
    },
    {
     "name": "stderr",
     "output_type": "stream",
     "text": [
      "C:\\ProgramData\\Anaconda3\\lib\\site-packages\\IPython\\core\\interactiveshell.py:3165: DtypeWarning: Columns (1) have mixed types.Specify dtype option on import or set low_memory=False.\n",
      "  has_raised = await self.run_ast_nodes(code_ast.body, cell_name,\n"
     ]
    },
    {
     "data": {
      "text/html": [
       "<div>\n",
       "<style scoped>\n",
       "    .dataframe tbody tr th:only-of-type {\n",
       "        vertical-align: middle;\n",
       "    }\n",
       "\n",
       "    .dataframe tbody tr th {\n",
       "        vertical-align: top;\n",
       "    }\n",
       "\n",
       "    .dataframe thead th {\n",
       "        text-align: right;\n",
       "    }\n",
       "</style>\n",
       "<table border=\"1\" class=\"dataframe\">\n",
       "  <thead>\n",
       "    <tr style=\"text-align: right;\">\n",
       "      <th></th>\n",
       "      <th>day</th>\n",
       "      <th>car_id</th>\n",
       "      <th>price</th>\n",
       "      <th>sold</th>\n",
       "    </tr>\n",
       "  </thead>\n",
       "  <tbody>\n",
       "    <tr>\n",
       "      <th>0</th>\n",
       "      <td>2019-02-09</td>\n",
       "      <td>1891</td>\n",
       "      <td>212457</td>\n",
       "      <td>False</td>\n",
       "    </tr>\n",
       "    <tr>\n",
       "      <th>1</th>\n",
       "      <td>2019-02-10</td>\n",
       "      <td>1891</td>\n",
       "      <td>212412</td>\n",
       "      <td>False</td>\n",
       "    </tr>\n",
       "    <tr>\n",
       "      <th>2</th>\n",
       "      <td>2019-02-11</td>\n",
       "      <td>1891</td>\n",
       "      <td>212367</td>\n",
       "      <td>False</td>\n",
       "    </tr>\n",
       "    <tr>\n",
       "      <th>3</th>\n",
       "      <td>2019-02-12</td>\n",
       "      <td>1891</td>\n",
       "      <td>212322</td>\n",
       "      <td>False</td>\n",
       "    </tr>\n",
       "    <tr>\n",
       "      <th>4</th>\n",
       "      <td>2019-02-13</td>\n",
       "      <td>1891</td>\n",
       "      <td>212277</td>\n",
       "      <td>False</td>\n",
       "    </tr>\n",
       "    <tr>\n",
       "      <th>5</th>\n",
       "      <td>2019-02-14</td>\n",
       "      <td>1891</td>\n",
       "      <td>212232</td>\n",
       "      <td>False</td>\n",
       "    </tr>\n",
       "    <tr>\n",
       "      <th>6</th>\n",
       "      <td>2019-02-15</td>\n",
       "      <td>1891</td>\n",
       "      <td>212187</td>\n",
       "      <td>False</td>\n",
       "    </tr>\n",
       "    <tr>\n",
       "      <th>7</th>\n",
       "      <td>2019-02-16</td>\n",
       "      <td>1891</td>\n",
       "      <td>212142</td>\n",
       "      <td>False</td>\n",
       "    </tr>\n",
       "    <tr>\n",
       "      <th>8</th>\n",
       "      <td>2019-02-17</td>\n",
       "      <td>1891</td>\n",
       "      <td>212097</td>\n",
       "      <td>False</td>\n",
       "    </tr>\n",
       "    <tr>\n",
       "      <th>9</th>\n",
       "      <td>2019-02-18</td>\n",
       "      <td>1891</td>\n",
       "      <td>212052</td>\n",
       "      <td>False</td>\n",
       "    </tr>\n",
       "  </tbody>\n",
       "</table>\n",
       "</div>"
      ],
      "text/plain": [
       "          day car_id   price   sold\n",
       "0  2019-02-09   1891  212457  False\n",
       "1  2019-02-10   1891  212412  False\n",
       "2  2019-02-11   1891  212367  False\n",
       "3  2019-02-12   1891  212322  False\n",
       "4  2019-02-13   1891  212277  False\n",
       "5  2019-02-14   1891  212232  False\n",
       "6  2019-02-15   1891  212187  False\n",
       "7  2019-02-16   1891  212142  False\n",
       "8  2019-02-17   1891  212097  False\n",
       "9  2019-02-18   1891  212052  False"
      ]
     },
     "execution_count": 84,
     "metadata": {},
     "output_type": "execute_result"
    }
   ],
   "source": [
    "#Carga la base de datos de autos que NO han sido vendidos para entrenamiento\n",
    "unsold_cars_train = pd.read_csv('train_cars.csv')\n",
    "\n",
    "#muestra los tipos de cada columna en este dataset\n",
    "print(unsold_cars_train.dtypes)\n",
    "\n",
    "#muestra una porcion de los coches no vendidos\n",
    "unsold_cars_train.head(10)"
   ]
  },
  {
   "cell_type": "code",
   "execution_count": 85,
   "id": "5c9deefe",
   "metadata": {},
   "outputs": [
    {
     "data": {
      "text/html": [
       "<div>\n",
       "<style scoped>\n",
       "    .dataframe tbody tr th:only-of-type {\n",
       "        vertical-align: middle;\n",
       "    }\n",
       "\n",
       "    .dataframe tbody tr th {\n",
       "        vertical-align: top;\n",
       "    }\n",
       "\n",
       "    .dataframe thead th {\n",
       "        text-align: right;\n",
       "    }\n",
       "</style>\n",
       "<table border=\"1\" class=\"dataframe\">\n",
       "  <thead>\n",
       "    <tr style=\"text-align: right;\">\n",
       "      <th></th>\n",
       "      <th>day</th>\n",
       "      <th>car_id</th>\n",
       "      <th>price</th>\n",
       "      <th>sold</th>\n",
       "    </tr>\n",
       "  </thead>\n",
       "  <tbody>\n",
       "    <tr>\n",
       "      <th>68681</th>\n",
       "      <td>2019-04-11</td>\n",
       "      <td>13914</td>\n",
       "      <td>585859</td>\n",
       "      <td>False</td>\n",
       "    </tr>\n",
       "    <tr>\n",
       "      <th>134980</th>\n",
       "      <td>2019-05-05</td>\n",
       "      <td>12308</td>\n",
       "      <td>602071</td>\n",
       "      <td>False</td>\n",
       "    </tr>\n",
       "    <tr>\n",
       "      <th>77222</th>\n",
       "      <td>2019-03-17</td>\n",
       "      <td>1097</td>\n",
       "      <td>178920</td>\n",
       "      <td>False</td>\n",
       "    </tr>\n",
       "    <tr>\n",
       "      <th>113448</th>\n",
       "      <td>2019-02-17</td>\n",
       "      <td>18102</td>\n",
       "      <td>378865</td>\n",
       "      <td>False</td>\n",
       "    </tr>\n",
       "    <tr>\n",
       "      <th>71746</th>\n",
       "      <td>2019-04-30</td>\n",
       "      <td>18701</td>\n",
       "      <td>341710</td>\n",
       "      <td>False</td>\n",
       "    </tr>\n",
       "    <tr>\n",
       "      <th>117517</th>\n",
       "      <td>2019-03-24</td>\n",
       "      <td>12483</td>\n",
       "      <td>519629</td>\n",
       "      <td>False</td>\n",
       "    </tr>\n",
       "    <tr>\n",
       "      <th>152732</th>\n",
       "      <td>2019-05-30</td>\n",
       "      <td>18914</td>\n",
       "      <td>680434</td>\n",
       "      <td>False</td>\n",
       "    </tr>\n",
       "    <tr>\n",
       "      <th>180856</th>\n",
       "      <td>2019-05-16</td>\n",
       "      <td>4762</td>\n",
       "      <td>783101</td>\n",
       "      <td>False</td>\n",
       "    </tr>\n",
       "    <tr>\n",
       "      <th>133471</th>\n",
       "      <td>2019-04-19</td>\n",
       "      <td>14296</td>\n",
       "      <td>455276</td>\n",
       "      <td>False</td>\n",
       "    </tr>\n",
       "    <tr>\n",
       "      <th>42849</th>\n",
       "      <td>2019-05-21</td>\n",
       "      <td>19862</td>\n",
       "      <td>1134472</td>\n",
       "      <td>False</td>\n",
       "    </tr>\n",
       "  </tbody>\n",
       "</table>\n",
       "</div>"
      ],
      "text/plain": [
       "               day car_id    price   sold\n",
       "68681   2019-04-11  13914   585859  False\n",
       "134980  2019-05-05  12308   602071  False\n",
       "77222   2019-03-17   1097   178920  False\n",
       "113448  2019-02-17  18102   378865  False\n",
       "71746   2019-04-30  18701   341710  False\n",
       "117517  2019-03-24  12483   519629  False\n",
       "152732  2019-05-30  18914   680434  False\n",
       "180856  2019-05-16   4762   783101  False\n",
       "133471  2019-04-19  14296   455276  False\n",
       "42849   2019-05-21  19862  1134472  False"
      ]
     },
     "execution_count": 85,
     "metadata": {},
     "output_type": "execute_result"
    }
   ],
   "source": [
    "#unsold_cars_train.sample(n=10)"
   ]
  },
  {
   "cell_type": "code",
   "execution_count": 5,
   "id": "b5ffdeea",
   "metadata": {},
   "outputs": [
    {
     "name": "stdout",
     "output_type": "stream",
     "text": [
      "day       datetime64[ns]\n",
      "car_id            object\n",
      "price              int64\n",
      "sold                bool\n",
      "dtype: object\n"
     ]
    }
   ],
   "source": [
    "#Como el error lo indica existen columnas (col 1) con multiples tipos de datos\n",
    "#Por lo que es necesario realizar los ajustes necesarios sobre ésta\n",
    "#para, nuevamente, no caer en error. La inspeccion visual nos dice que estamos trabajando\n",
    "#con fechas por lo que convertimos la columna day de tipo objet a time\n",
    "unsold_cars_train['day'] = pd.to_datetime(unsold_cars_train['day'], format='%Y-%m-%d') #los guiones se deben a la estructura de la fecha en el dataset\n",
    "\n",
    "#nos aseguramos que el cambio se haya realizado correctamente\n",
    "print(unsold_cars_train.dtypes)"
   ]
  },
  {
   "cell_type": "code",
   "execution_count": 86,
   "id": "82fe03eb",
   "metadata": {},
   "outputs": [
    {
     "name": "stdout",
     "output_type": "stream",
     "text": [
      "car_id          int64\n",
      "first_date     object\n",
      "first_price     int64\n",
      "dtype: object\n"
     ]
    },
    {
     "data": {
      "text/html": [
       "<div>\n",
       "<style scoped>\n",
       "    .dataframe tbody tr th:only-of-type {\n",
       "        vertical-align: middle;\n",
       "    }\n",
       "\n",
       "    .dataframe tbody tr th {\n",
       "        vertical-align: top;\n",
       "    }\n",
       "\n",
       "    .dataframe thead th {\n",
       "        text-align: right;\n",
       "    }\n",
       "</style>\n",
       "<table border=\"1\" class=\"dataframe\">\n",
       "  <thead>\n",
       "    <tr style=\"text-align: right;\">\n",
       "      <th></th>\n",
       "      <th>car_id</th>\n",
       "      <th>first_date</th>\n",
       "      <th>first_price</th>\n",
       "    </tr>\n",
       "  </thead>\n",
       "  <tbody>\n",
       "    <tr>\n",
       "      <th>0</th>\n",
       "      <td>0</td>\n",
       "      <td>2019-08-14</td>\n",
       "      <td>228071</td>\n",
       "    </tr>\n",
       "    <tr>\n",
       "      <th>1</th>\n",
       "      <td>1</td>\n",
       "      <td>2019-09-18</td>\n",
       "      <td>240014</td>\n",
       "    </tr>\n",
       "    <tr>\n",
       "      <th>2</th>\n",
       "      <td>10</td>\n",
       "      <td>2019-11-08</td>\n",
       "      <td>324066</td>\n",
       "    </tr>\n",
       "    <tr>\n",
       "      <th>3</th>\n",
       "      <td>10000</td>\n",
       "      <td>2019-11-07</td>\n",
       "      <td>297417</td>\n",
       "    </tr>\n",
       "    <tr>\n",
       "      <th>4</th>\n",
       "      <td>10001</td>\n",
       "      <td>2019-12-31</td>\n",
       "      <td>934590</td>\n",
       "    </tr>\n",
       "    <tr>\n",
       "      <th>5</th>\n",
       "      <td>10002</td>\n",
       "      <td>2019-07-28</td>\n",
       "      <td>856547</td>\n",
       "    </tr>\n",
       "    <tr>\n",
       "      <th>6</th>\n",
       "      <td>10003</td>\n",
       "      <td>2019-12-28</td>\n",
       "      <td>680810</td>\n",
       "    </tr>\n",
       "    <tr>\n",
       "      <th>7</th>\n",
       "      <td>10004</td>\n",
       "      <td>2019-06-08</td>\n",
       "      <td>444335</td>\n",
       "    </tr>\n",
       "    <tr>\n",
       "      <th>8</th>\n",
       "      <td>10005</td>\n",
       "      <td>2019-08-15</td>\n",
       "      <td>948759</td>\n",
       "    </tr>\n",
       "    <tr>\n",
       "      <th>9</th>\n",
       "      <td>10007</td>\n",
       "      <td>2019-12-28</td>\n",
       "      <td>1037817</td>\n",
       "    </tr>\n",
       "  </tbody>\n",
       "</table>\n",
       "</div>"
      ],
      "text/plain": [
       "   car_id  first_date  first_price\n",
       "0       0  2019-08-14       228071\n",
       "1       1  2019-09-18       240014\n",
       "2      10  2019-11-08       324066\n",
       "3   10000  2019-11-07       297417\n",
       "4   10001  2019-12-31       934590\n",
       "5   10002  2019-07-28       856547\n",
       "6   10003  2019-12-28       680810\n",
       "7   10004  2019-06-08       444335\n",
       "8   10005  2019-08-15       948759\n",
       "9   10007  2019-12-28      1037817"
      ]
     },
     "execution_count": 86,
     "metadata": {},
     "output_type": "execute_result"
    }
   ],
   "source": [
    "#Cargamos la base de datos de autos no vendidos para prueba o test\n",
    "unsold_cars_test = pd.read_csv('test_cars.csv')\n",
    "\n",
    "#muestra los tipos de cada columna en este dataset\n",
    "print(unsold_cars_test.dtypes)\n",
    "\n",
    "#mostramos las primeras diez columnas del conjunto de prueba\n",
    "unsold_cars_test.head(10)"
   ]
  },
  {
   "cell_type": "code",
   "execution_count": 87,
   "id": "2e09ed8c",
   "metadata": {},
   "outputs": [
    {
     "data": {
      "text/html": [
       "<div>\n",
       "<style scoped>\n",
       "    .dataframe tbody tr th:only-of-type {\n",
       "        vertical-align: middle;\n",
       "    }\n",
       "\n",
       "    .dataframe tbody tr th {\n",
       "        vertical-align: top;\n",
       "    }\n",
       "\n",
       "    .dataframe thead th {\n",
       "        text-align: right;\n",
       "    }\n",
       "</style>\n",
       "<table border=\"1\" class=\"dataframe\">\n",
       "  <thead>\n",
       "    <tr style=\"text-align: right;\">\n",
       "      <th></th>\n",
       "      <th>car_id</th>\n",
       "      <th>first_date</th>\n",
       "      <th>first_price</th>\n",
       "    </tr>\n",
       "  </thead>\n",
       "  <tbody>\n",
       "    <tr>\n",
       "      <th>306</th>\n",
       "      <td>10471</td>\n",
       "      <td>2019-07-20</td>\n",
       "      <td>423544</td>\n",
       "    </tr>\n",
       "    <tr>\n",
       "      <th>9288</th>\n",
       "      <td>6336</td>\n",
       "      <td>2019-09-05</td>\n",
       "      <td>625476</td>\n",
       "    </tr>\n",
       "    <tr>\n",
       "      <th>8689</th>\n",
       "      <td>5411</td>\n",
       "      <td>2019-06-29</td>\n",
       "      <td>246341</td>\n",
       "    </tr>\n",
       "    <tr>\n",
       "      <th>10684</th>\n",
       "      <td>8498</td>\n",
       "      <td>2019-06-25</td>\n",
       "      <td>217137</td>\n",
       "    </tr>\n",
       "    <tr>\n",
       "      <th>10577</th>\n",
       "      <td>8327</td>\n",
       "      <td>2019-09-14</td>\n",
       "      <td>425489</td>\n",
       "    </tr>\n",
       "    <tr>\n",
       "      <th>9841</th>\n",
       "      <td>7173</td>\n",
       "      <td>2019-07-26</td>\n",
       "      <td>697611</td>\n",
       "    </tr>\n",
       "    <tr>\n",
       "      <th>10474</th>\n",
       "      <td>8177</td>\n",
       "      <td>2019-09-09</td>\n",
       "      <td>729465</td>\n",
       "    </tr>\n",
       "    <tr>\n",
       "      <th>1383</th>\n",
       "      <td>12155</td>\n",
       "      <td>2019-09-24</td>\n",
       "      <td>544126</td>\n",
       "    </tr>\n",
       "    <tr>\n",
       "      <th>1446</th>\n",
       "      <td>12256</td>\n",
       "      <td>2019-11-02</td>\n",
       "      <td>136296</td>\n",
       "    </tr>\n",
       "    <tr>\n",
       "      <th>10296</th>\n",
       "      <td>7903</td>\n",
       "      <td>2019-09-11</td>\n",
       "      <td>226774</td>\n",
       "    </tr>\n",
       "  </tbody>\n",
       "</table>\n",
       "</div>"
      ],
      "text/plain": [
       "       car_id  first_date  first_price\n",
       "306     10471  2019-07-20       423544\n",
       "9288     6336  2019-09-05       625476\n",
       "8689     5411  2019-06-29       246341\n",
       "10684    8498  2019-06-25       217137\n",
       "10577    8327  2019-09-14       425489\n",
       "9841     7173  2019-07-26       697611\n",
       "10474    8177  2019-09-09       729465\n",
       "1383    12155  2019-09-24       544126\n",
       "1446    12256  2019-11-02       136296\n",
       "10296    7903  2019-09-11       226774"
      ]
     },
     "execution_count": 87,
     "metadata": {},
     "output_type": "execute_result"
    }
   ],
   "source": [
    "#unsold_cars_test.sample(n=10)"
   ]
  },
  {
   "cell_type": "code",
   "execution_count": 7,
   "id": "706dcf9c",
   "metadata": {},
   "outputs": [
    {
     "name": "stdout",
     "output_type": "stream",
     "text": [
      "car_id                  int64\n",
      "first_date     datetime64[ns]\n",
      "first_price             int64\n",
      "dtype: object\n"
     ]
    }
   ],
   "source": [
    "#Puesto a que las fechas se trabajan como tipo datetime realizamos el cambio\n",
    "unsold_cars_test['first_date'] = pd.to_datetime(unsold_cars_test['first_date'], format='%Y-%m-%d') #los guiones se deben a la estructura de la fecha en el dataset\n",
    "\n",
    "#comprobamos el cambio\n",
    "print(unsold_cars_test.dtypes)"
   ]
  },
  {
   "cell_type": "markdown",
   "id": "525e5690",
   "metadata": {},
   "source": [
    "# Data cleaning \n",
    "\n",
    "En esta seccion se realiza una limpieza de los datos en busqueda de datos faltantes, datos repetidos, datos coruptos con valores NaN u otros"
   ]
  },
  {
   "cell_type": "code",
   "execution_count": 8,
   "id": "bc3d8c6f",
   "metadata": {},
   "outputs": [
    {
     "name": "stdout",
     "output_type": "stream",
     "text": [
      "Hay 0 objetos NaN, None o NaT en el dataset cuya posicion en la lista es 0\n",
      "Hay 1 objetos NaN, None o NaT en el dataset cuya posicion en la lista es 1\n",
      "Hay 16 objetos NaN, None o NaT en el dataset cuya posicion en la lista es 2\n",
      "Hay 0 objetos NaN, None o NaT en el dataset cuya posicion en la lista es 3\n"
     ]
    }
   ],
   "source": [
    "#busca valores NaN, en arrays numericos, NaN o None en arrays de tipo object\n",
    "# o  NaT en arrays tipo datetime, ademas, busca por strings vacios (como '' o '  ')\n",
    "#para implementar una solucion rapida debemos crear una lista que contenga cada uno de las bases de datos que leimos anteriormente\n",
    "data = [skus, avalaible_cars, unsold_cars_train, unsold_cars_test]\n",
    "\n",
    "#iteramos sobre los dataframes para conocer si existen estos tipos en los conjuntos\n",
    "for position, dataset in enumerate(data):\n",
    "    #reemplazamos cualquier cadena de texto que pudiera contener una o mas de una cadena de espacios\n",
    "    dataset.replace('', np.nan, inplace=True)\n",
    "    #reemplazamos cualquier cadena de texto que pudiera contener alguna variacion de NaN\n",
    "    dataset.replace(['nan', 'Nan', 'NAn', 'NAN', 'nAn', 'naN', 'nAN', 'NaN'], np.nan, inplace=True)\n",
    "    #inicializamos un contador para conocer si existen valores de estos tipos, en caso positivo\n",
    "    #conocer el dataset con problemas\n",
    "    count = dataset.isnull().sum().sum()\n",
    "    print('Hay {} objetos NaN, None o NaT en el dataset cuya posicion en la lista es {}'.format(count, position))"
   ]
  },
  {
   "cell_type": "markdown",
   "id": "2f7a71f2",
   "metadata": {},
   "source": [
    "De aqui que los conjuntos avalaible_cars y unsold_cars contienen valores np.nan.\n",
    "Observemos en que posicion se encuentran"
   ]
  },
  {
   "cell_type": "code",
   "execution_count": 9,
   "id": "9a39bc6e",
   "metadata": {},
   "outputs": [
    {
     "name": "stdout",
     "output_type": "stream",
     "text": [
      "Nans en el conjunto_avalaible_cars\n",
      "car_id      1\n",
      "car_type    0\n",
      "color       0\n",
      "year        0\n",
      "km          0\n",
      "dtype: int64\n",
      "##################################################\n",
      "Nans en el conjunto unsold_cars_train\n",
      "day        0\n",
      "car_id    16\n",
      "price      0\n",
      "sold       0\n",
      "dtype: int64\n"
     ]
    }
   ],
   "source": [
    "#Una forma de conocer en que columna se encuentra el valor np.nan es la siguiente\n",
    "print('Nans en el conjunto_avalaible_cars')\n",
    "print(avalaible_cars.isnull().sum())\n",
    "print(50*'#')\n",
    "print('Nans en el conjunto unsold_cars_train')\n",
    "print(unsold_cars_train.isnull().sum())"
   ]
  },
  {
   "cell_type": "markdown",
   "id": "3fec9652",
   "metadata": {},
   "source": [
    "Puesto a que los valores NaN se encuentran dentro de la columna car_id, no es posible aplicar un metodo de matematico para predecir su valor. Si bien es cierto que puede asignarse un valor para cada uno de estos, de tal forma que este sea unico, esto podria generar algun problema administrativo, por lo que una solucion seria aclararlo con el encargado y en su caso subsanar este problema. Dado que esta no es nuestra condicion, procederemos a descartarlos. "
   ]
  },
  {
   "cell_type": "code",
   "execution_count": 10,
   "id": "78905bb2",
   "metadata": {},
   "outputs": [],
   "source": [
    "#Descartamos los valores que contienen tipos NaN atraves de la funcion dropna de pandas\n",
    "avalaible_cars.dropna(inplace=True)\n",
    "unsold_cars_train.dropna(inplace=True)\n",
    "\n",
    "#dado a que se eliminaron valores es necesario reiniciar los indices de estos dos datasets\n",
    "avalaible_cars.reset_index(drop=True, inplace=True)\n",
    "unsold_cars_train.reset_index(drop=True, inplace=True)"
   ]
  },
  {
   "cell_type": "code",
   "execution_count": 11,
   "id": "771f1e3a",
   "metadata": {},
   "outputs": [
    {
     "name": "stdout",
     "output_type": "stream",
     "text": [
      "Hay 0 objetos NaN, None o NaT en el dataset cuya posicion en la lista es 0\n",
      "Hay 0 objetos NaN, None o NaT en el dataset cuya posicion en la lista es 1\n",
      "Hay 0 objetos NaN, None o NaT en el dataset cuya posicion en la lista es 2\n",
      "Hay 0 objetos NaN, None o NaT en el dataset cuya posicion en la lista es 3\n"
     ]
    }
   ],
   "source": [
    "#comprobemos si a traves del procedimiento anterior logramos descartar los valores NaN\n",
    "#iteramos sobre los dataframes para conocer si existen estos tipos en los conjuntos\n",
    "for position, dataset in enumerate(data):\n",
    "    #reemplazamos cualquier cadena de texto que pudiera contener una o mas de una cadena de espacios\n",
    "    dataset.replace('', np.nan, inplace=True)\n",
    "    #reemplazamos cualquier cadena de texto que pudiera contener alguna variacion de NaN\n",
    "    dataset.replace(['nan', 'Nan', 'NAn', 'NAN', 'nAn', 'naN', 'nAN', 'NaN'], np.nan, inplace=True)\n",
    "    #inicializamos un contador para conocer si existen valores de estos tipos, en caso positivo\n",
    "    #conocer el dataset con problemas\n",
    "    count = dataset.isnull().sum().sum()\n",
    "    print('Hay {} objetos NaN, None o NaT en el dataset cuya posicion en la lista es {}'.format(count, position))"
   ]
  },
  {
   "cell_type": "code",
   "execution_count": 12,
   "id": "6b13e8ac",
   "metadata": {},
   "outputs": [
    {
     "name": "stdout",
     "output_type": "stream",
     "text": [
      "Hay 0 objetos NaN, None o NaT en el dataset cuya posicion en la lista es 0\n",
      "Hay 0 objetos NaN, None o NaT en el dataset cuya posicion en la lista es 1\n",
      "Hay 0 objetos NaN, None o NaT en el dataset cuya posicion en la lista es 2\n",
      "Hay 0 objetos NaN, None o NaT en el dataset cuya posicion en la lista es 3\n"
     ]
    }
   ],
   "source": [
    "#Buscamos valores duplicados en cada conjunto. Usando el mismo metodo iterativo\n",
    "for position, dataset in enumerate(data):\n",
    "    #contamos los duplicados en cada dataset\n",
    "    duplicates_count = dataset.duplicated().sum()\n",
    "    #imprimimos los valores encontrados\n",
    "    print('Hay {} objetos NaN, None o NaT en el dataset cuya posicion en la lista es {}'.format(duplicates_count, position))"
   ]
  },
  {
   "cell_type": "markdown",
   "id": "79ec3d7a",
   "metadata": {},
   "source": [
    "De este pequeño analisis sabemos que los conjuntos de datos presentaban valores NaN o None o NaT o strings vacios. Sin embargo, fue posible subsanar dicho problema. Por otro lado, no se encontraron muestras duplicadas."
   ]
  },
  {
   "cell_type": "markdown",
   "id": "8e63903b",
   "metadata": {},
   "source": [
    "Al cargar los datos nos dimos cuenta de que el tipo de las columnas difieren entre algunos datasets, por lo que es necesario igualarlos.\n",
    "Seguiremos el siguiente esquema con base en buenas practicas de programacion:\n",
    "* car_type: string\n",
    "* average_price: int64\n",
    "* transmission: string\n",
    "* body_type: string\n",
    "* car_id: int64\n",
    "* color: string\n",
    "* year: int64\t\n",
    "* km: int64\n",
    "* day: datetime\n",
    "* price: int64\n",
    "* sold: boolean\n",
    "* first_date: datetime\n",
    "* first_price: int64"
   ]
  },
  {
   "cell_type": "code",
   "execution_count": 13,
   "id": "4836e815",
   "metadata": {},
   "outputs": [
    {
     "name": "stdout",
     "output_type": "stream",
     "text": [
      "car_type         string\n",
      "average_price     int64\n",
      "transmission     string\n",
      "body_type        string\n",
      "dtype: object\n"
     ]
    }
   ],
   "source": [
    "#dataset skus\n",
    "skus['car_type'] = skus.car_type.astype('string')\n",
    "skus['transmission'] = skus.transmission.astype('string')\n",
    "skus['body_type'] = skus.body_type.astype('string')\n",
    "print(skus.dtypes)"
   ]
  },
  {
   "cell_type": "code",
   "execution_count": 14,
   "id": "eef5075f",
   "metadata": {},
   "outputs": [
    {
     "name": "stdout",
     "output_type": "stream",
     "text": [
      "car_id       int64\n",
      "car_type    string\n",
      "color       string\n",
      "year         int64\n",
      "km           int64\n",
      "dtype: object\n"
     ]
    }
   ],
   "source": [
    "#dataset avalaible_cars\n",
    "avalaible_cars['car_id'] = avalaible_cars['car_id'].astype('int64')\n",
    "avalaible_cars['car_type'] = avalaible_cars.car_type.astype('string')\n",
    "avalaible_cars['color'] = avalaible_cars.color.astype('string')\n",
    "print(avalaible_cars.dtypes)"
   ]
  },
  {
   "cell_type": "code",
   "execution_count": 15,
   "id": "64a6ece5",
   "metadata": {},
   "outputs": [
    {
     "name": "stdout",
     "output_type": "stream",
     "text": [
      "day       datetime64[ns]\n",
      "car_id             int64\n",
      "price              int64\n",
      "sold                bool\n",
      "dtype: object\n"
     ]
    }
   ],
   "source": [
    "#dataset unsold_cars_train\n",
    "unsold_cars_train['car_id'] = unsold_cars_train['car_id'].astype('int64')\n",
    "print(unsold_cars_train.dtypes)"
   ]
  },
  {
   "cell_type": "code",
   "execution_count": 16,
   "id": "005084cf",
   "metadata": {},
   "outputs": [
    {
     "name": "stdout",
     "output_type": "stream",
     "text": [
      "car_id                  int64\n",
      "first_date     datetime64[ns]\n",
      "first_price             int64\n",
      "dtype: object\n"
     ]
    }
   ],
   "source": [
    "print(unsold_cars_test.dtypes)"
   ]
  },
  {
   "cell_type": "markdown",
   "id": "334f6587",
   "metadata": {},
   "source": [
    "Se comprobo, visualmente, que cada dataset no haya sido modificado debido a un error de dedo. empleando el metodo .head(). Estas lineas de codigo se omiten para no complicar la lectura del codigo."
   ]
  },
  {
   "cell_type": "markdown",
   "id": "c3697183",
   "metadata": {},
   "source": [
    "De la inspeccion visual vemos que las bases de datos avalaible_cars y skus, las cuales contienen una columna del tipo car_type, cuya estructura parece seguir la siguiente marca_modelo_año. Puesto a que el conjunto avalaible cars ya cuenta con una columna para especificar el año, este dato es irrelevante, y si esta se considera como variable categorica, entonces, dicha variable categorica sera diferente para un auto con especificaciones marca_modelo_año-1 a un auto con especificaciones marca_modelo_año+1 etc, lo cual generará confusion y separará incorrectamente a dos o más autos que comparten la misma marca y modelo, de esta forma es necesario retirar de car?type esta ultima especificacion, ademas un analisis más completo podria realizarse al separar marca y modelo y tratarlas como variables independientes, este ultimo caso lo estudiaremos en las propuestas."
   ]
  },
  {
   "cell_type": "code",
   "execution_count": 17,
   "id": "68d22b63",
   "metadata": {},
   "outputs": [],
   "source": [
    "data = [skus, avalaible_cars]\n",
    "#iteramos sobre los dataframes para eliminar el año en la descripcion de car_type\n",
    "for dataset in data:\n",
    "    #reemplazamos cualquier cadena de texto que contenga la estructura _numero, que es el caso _año\n",
    "    #unicamente en la columna car_type\n",
    "    dataset['car_type'] = dataset['car_type'].str.replace('_\\d+', '', regex=True)"
   ]
  },
  {
   "cell_type": "code",
   "execution_count": 18,
   "id": "d4f70056",
   "metadata": {},
   "outputs": [
    {
     "data": {
      "text/html": [
       "<div>\n",
       "<style scoped>\n",
       "    .dataframe tbody tr th:only-of-type {\n",
       "        vertical-align: middle;\n",
       "    }\n",
       "\n",
       "    .dataframe tbody tr th {\n",
       "        vertical-align: top;\n",
       "    }\n",
       "\n",
       "    .dataframe thead th {\n",
       "        text-align: right;\n",
       "    }\n",
       "</style>\n",
       "<table border=\"1\" class=\"dataframe\">\n",
       "  <thead>\n",
       "    <tr style=\"text-align: right;\">\n",
       "      <th></th>\n",
       "      <th>car_type</th>\n",
       "      <th>average_price</th>\n",
       "      <th>transmission</th>\n",
       "      <th>body_type</th>\n",
       "    </tr>\n",
       "  </thead>\n",
       "  <tbody>\n",
       "    <tr>\n",
       "      <th>0</th>\n",
       "      <td>GMC_Sierra</td>\n",
       "      <td>706981</td>\n",
       "      <td>Automatic</td>\n",
       "      <td>Sedan</td>\n",
       "    </tr>\n",
       "    <tr>\n",
       "      <th>1</th>\n",
       "      <td>Ford_Edge</td>\n",
       "      <td>868193</td>\n",
       "      <td>Automatic</td>\n",
       "      <td>Sedan</td>\n",
       "    </tr>\n",
       "    <tr>\n",
       "      <th>2</th>\n",
       "      <td>Honda_City</td>\n",
       "      <td>671272</td>\n",
       "      <td>Manual</td>\n",
       "      <td>SUV</td>\n",
       "    </tr>\n",
       "    <tr>\n",
       "      <th>3</th>\n",
       "      <td>Renault_Twizy</td>\n",
       "      <td>204486</td>\n",
       "      <td>Automatic</td>\n",
       "      <td>Sedan</td>\n",
       "    </tr>\n",
       "    <tr>\n",
       "      <th>4</th>\n",
       "      <td>Giant_Giant GF-8</td>\n",
       "      <td>701787</td>\n",
       "      <td>Manual</td>\n",
       "      <td>Sedan</td>\n",
       "    </tr>\n",
       "  </tbody>\n",
       "</table>\n",
       "</div>"
      ],
      "text/plain": [
       "           car_type  average_price transmission body_type\n",
       "0        GMC_Sierra         706981    Automatic     Sedan\n",
       "1         Ford_Edge         868193    Automatic     Sedan\n",
       "2        Honda_City         671272       Manual       SUV\n",
       "3     Renault_Twizy         204486    Automatic     Sedan\n",
       "4  Giant_Giant GF-8         701787       Manual     Sedan"
      ]
     },
     "execution_count": 18,
     "metadata": {},
     "output_type": "execute_result"
    }
   ],
   "source": [
    "#nos aseguramos que el cambio se haya realizado correctamente\n",
    "skus.head(5)"
   ]
  },
  {
   "cell_type": "code",
   "execution_count": 19,
   "id": "d84d8fb0",
   "metadata": {},
   "outputs": [
    {
     "data": {
      "text/html": [
       "<div>\n",
       "<style scoped>\n",
       "    .dataframe tbody tr th:only-of-type {\n",
       "        vertical-align: middle;\n",
       "    }\n",
       "\n",
       "    .dataframe tbody tr th {\n",
       "        vertical-align: top;\n",
       "    }\n",
       "\n",
       "    .dataframe thead th {\n",
       "        text-align: right;\n",
       "    }\n",
       "</style>\n",
       "<table border=\"1\" class=\"dataframe\">\n",
       "  <thead>\n",
       "    <tr style=\"text-align: right;\">\n",
       "      <th></th>\n",
       "      <th>car_id</th>\n",
       "      <th>car_type</th>\n",
       "      <th>color</th>\n",
       "      <th>year</th>\n",
       "      <th>km</th>\n",
       "    </tr>\n",
       "  </thead>\n",
       "  <tbody>\n",
       "    <tr>\n",
       "      <th>0</th>\n",
       "      <td>0</td>\n",
       "      <td>Toyota_Supra</td>\n",
       "      <td>Blue</td>\n",
       "      <td>2020</td>\n",
       "      <td>25848512</td>\n",
       "    </tr>\n",
       "    <tr>\n",
       "      <th>1</th>\n",
       "      <td>112</td>\n",
       "      <td>Toyota_Supra</td>\n",
       "      <td>Black</td>\n",
       "      <td>2020</td>\n",
       "      <td>25913421</td>\n",
       "    </tr>\n",
       "    <tr>\n",
       "      <th>2</th>\n",
       "      <td>1497</td>\n",
       "      <td>Toyota_Supra</td>\n",
       "      <td>Black</td>\n",
       "      <td>2020</td>\n",
       "      <td>24069281</td>\n",
       "    </tr>\n",
       "    <tr>\n",
       "      <th>3</th>\n",
       "      <td>1891</td>\n",
       "      <td>Toyota_Supra</td>\n",
       "      <td>Blue</td>\n",
       "      <td>2020</td>\n",
       "      <td>21828354</td>\n",
       "    </tr>\n",
       "    <tr>\n",
       "      <th>4</th>\n",
       "      <td>1955</td>\n",
       "      <td>Toyota_Supra</td>\n",
       "      <td>Black</td>\n",
       "      <td>2020</td>\n",
       "      <td>25620849</td>\n",
       "    </tr>\n",
       "  </tbody>\n",
       "</table>\n",
       "</div>"
      ],
      "text/plain": [
       "   car_id      car_type  color  year        km\n",
       "0       0  Toyota_Supra   Blue  2020  25848512\n",
       "1     112  Toyota_Supra  Black  2020  25913421\n",
       "2    1497  Toyota_Supra  Black  2020  24069281\n",
       "3    1891  Toyota_Supra   Blue  2020  21828354\n",
       "4    1955  Toyota_Supra  Black  2020  25620849"
      ]
     },
     "execution_count": 19,
     "metadata": {},
     "output_type": "execute_result"
    }
   ],
   "source": [
    "avalaible_cars.head(5)"
   ]
  },
  {
   "cell_type": "markdown",
   "id": "6a18fc22",
   "metadata": {},
   "source": [
    "Ahora, puesto que no sabemos si existen errores de dedo, en cuanto todas los datos que constan de cademas. Por sanidad, transformaremos todas las cadenas a lowercase y ademas eliminaremos todos los espacios, pues pueden existir al menos dos registros como los siguientes, ToYota_Supra y Toyota_Supra, y/o variaciones, que al momento de transformar estas variables categoricas podrian resultar en \"clases\" o asignaciones diferentes, lo cual sería incorrecto"
   ]
  },
  {
   "cell_type": "code",
   "execution_count": 20,
   "id": "cd8eaec1",
   "metadata": {},
   "outputs": [],
   "source": [
    "#Para el dataset skus, definimos una lista con los nombres de las columnas con valores\n",
    "#categoricos, con el fin de iterar sobre estos\n",
    "categorical_columns_data = ['car_type', 'transmission', 'body_type']\n",
    "#iteramos sobre dicho dataset\n",
    "for column in categorical_columns_data:\n",
    "    #convertimos a lowercase\n",
    "    skus[column] = skus[column].str.lower()\n",
    "    #removemos todos los espacios\n",
    "    skus[column] = skus[column].str.replace('\\s+', '', regex=True)"
   ]
  },
  {
   "cell_type": "code",
   "execution_count": 21,
   "id": "67d25d91",
   "metadata": {},
   "outputs": [
    {
     "data": {
      "text/html": [
       "<div>\n",
       "<style scoped>\n",
       "    .dataframe tbody tr th:only-of-type {\n",
       "        vertical-align: middle;\n",
       "    }\n",
       "\n",
       "    .dataframe tbody tr th {\n",
       "        vertical-align: top;\n",
       "    }\n",
       "\n",
       "    .dataframe thead th {\n",
       "        text-align: right;\n",
       "    }\n",
       "</style>\n",
       "<table border=\"1\" class=\"dataframe\">\n",
       "  <thead>\n",
       "    <tr style=\"text-align: right;\">\n",
       "      <th></th>\n",
       "      <th>car_type</th>\n",
       "      <th>average_price</th>\n",
       "      <th>transmission</th>\n",
       "      <th>body_type</th>\n",
       "    </tr>\n",
       "  </thead>\n",
       "  <tbody>\n",
       "    <tr>\n",
       "      <th>0</th>\n",
       "      <td>gmc_sierra</td>\n",
       "      <td>706981</td>\n",
       "      <td>automatic</td>\n",
       "      <td>sedan</td>\n",
       "    </tr>\n",
       "    <tr>\n",
       "      <th>1</th>\n",
       "      <td>ford_edge</td>\n",
       "      <td>868193</td>\n",
       "      <td>automatic</td>\n",
       "      <td>sedan</td>\n",
       "    </tr>\n",
       "    <tr>\n",
       "      <th>2</th>\n",
       "      <td>honda_city</td>\n",
       "      <td>671272</td>\n",
       "      <td>manual</td>\n",
       "      <td>suv</td>\n",
       "    </tr>\n",
       "    <tr>\n",
       "      <th>3</th>\n",
       "      <td>renault_twizy</td>\n",
       "      <td>204486</td>\n",
       "      <td>automatic</td>\n",
       "      <td>sedan</td>\n",
       "    </tr>\n",
       "    <tr>\n",
       "      <th>4</th>\n",
       "      <td>giant_giantgf-8</td>\n",
       "      <td>701787</td>\n",
       "      <td>manual</td>\n",
       "      <td>sedan</td>\n",
       "    </tr>\n",
       "  </tbody>\n",
       "</table>\n",
       "</div>"
      ],
      "text/plain": [
       "          car_type  average_price transmission body_type\n",
       "0       gmc_sierra         706981    automatic     sedan\n",
       "1        ford_edge         868193    automatic     sedan\n",
       "2       honda_city         671272       manual       suv\n",
       "3    renault_twizy         204486    automatic     sedan\n",
       "4  giant_giantgf-8         701787       manual     sedan"
      ]
     },
     "execution_count": 21,
     "metadata": {},
     "output_type": "execute_result"
    }
   ],
   "source": [
    "#verificamos el cambio\n",
    "skus.head(5)"
   ]
  },
  {
   "cell_type": "code",
   "execution_count": 22,
   "id": "9ce9e89e",
   "metadata": {},
   "outputs": [],
   "source": [
    "#Para el dataset avalaible_cars, definimos una lista con los nombres de las columnas con valores\n",
    "#categoricos, con el fin de iterar sobre estos\n",
    "categorical_columns_data = ['car_type', 'color']\n",
    "#iteramos sobre dicho dataset\n",
    "for column in categorical_columns_data:\n",
    "    #convertimos a lowercase, usando la funcion str.lower()\n",
    "    avalaible_cars[column] = avalaible_cars[column].str.lower()\n",
    "    #removemos todos los espacios, usando la funcion str.replace()\n",
    "    avalaible_cars[column] = avalaible_cars[column].str.replace('\\s+', '', regex=True)"
   ]
  },
  {
   "cell_type": "code",
   "execution_count": 23,
   "id": "39aff330",
   "metadata": {},
   "outputs": [
    {
     "data": {
      "text/html": [
       "<div>\n",
       "<style scoped>\n",
       "    .dataframe tbody tr th:only-of-type {\n",
       "        vertical-align: middle;\n",
       "    }\n",
       "\n",
       "    .dataframe tbody tr th {\n",
       "        vertical-align: top;\n",
       "    }\n",
       "\n",
       "    .dataframe thead th {\n",
       "        text-align: right;\n",
       "    }\n",
       "</style>\n",
       "<table border=\"1\" class=\"dataframe\">\n",
       "  <thead>\n",
       "    <tr style=\"text-align: right;\">\n",
       "      <th></th>\n",
       "      <th>car_id</th>\n",
       "      <th>car_type</th>\n",
       "      <th>color</th>\n",
       "      <th>year</th>\n",
       "      <th>km</th>\n",
       "    </tr>\n",
       "  </thead>\n",
       "  <tbody>\n",
       "    <tr>\n",
       "      <th>0</th>\n",
       "      <td>0</td>\n",
       "      <td>toyota_supra</td>\n",
       "      <td>blue</td>\n",
       "      <td>2020</td>\n",
       "      <td>25848512</td>\n",
       "    </tr>\n",
       "    <tr>\n",
       "      <th>1</th>\n",
       "      <td>112</td>\n",
       "      <td>toyota_supra</td>\n",
       "      <td>black</td>\n",
       "      <td>2020</td>\n",
       "      <td>25913421</td>\n",
       "    </tr>\n",
       "    <tr>\n",
       "      <th>2</th>\n",
       "      <td>1497</td>\n",
       "      <td>toyota_supra</td>\n",
       "      <td>black</td>\n",
       "      <td>2020</td>\n",
       "      <td>24069281</td>\n",
       "    </tr>\n",
       "    <tr>\n",
       "      <th>3</th>\n",
       "      <td>1891</td>\n",
       "      <td>toyota_supra</td>\n",
       "      <td>blue</td>\n",
       "      <td>2020</td>\n",
       "      <td>21828354</td>\n",
       "    </tr>\n",
       "    <tr>\n",
       "      <th>4</th>\n",
       "      <td>1955</td>\n",
       "      <td>toyota_supra</td>\n",
       "      <td>black</td>\n",
       "      <td>2020</td>\n",
       "      <td>25620849</td>\n",
       "    </tr>\n",
       "  </tbody>\n",
       "</table>\n",
       "</div>"
      ],
      "text/plain": [
       "   car_id      car_type  color  year        km\n",
       "0       0  toyota_supra   blue  2020  25848512\n",
       "1     112  toyota_supra  black  2020  25913421\n",
       "2    1497  toyota_supra  black  2020  24069281\n",
       "3    1891  toyota_supra   blue  2020  21828354\n",
       "4    1955  toyota_supra  black  2020  25620849"
      ]
     },
     "execution_count": 23,
     "metadata": {},
     "output_type": "execute_result"
    }
   ],
   "source": [
    "#verificamos el cambio\n",
    "avalaible_cars.head(5)"
   ]
  },
  {
   "cell_type": "code",
   "execution_count": 24,
   "id": "c2a5d9f2",
   "metadata": {},
   "outputs": [
    {
     "name": "stdout",
     "output_type": "stream",
     "text": [
      "En el dataset skus hay 0 valores que son 0 ó menores que 0\n",
      "En el dataset unsold_cars_train hay 0 valores que son 0 ó menores que 0\n",
      "En el dataset unsold_cars_test hay 0 valores que son 0 ó menores que 0\n"
     ]
    }
   ],
   "source": [
    "#Corroboremos ahora que las columnas que contengan informacion del precio, no exista ninguna\n",
    "#con valor cero o menor que cero, pues en teoria un auto no puede ser vendido a 0 pesos o dolares o\n",
    "# tener un precio negativo\n",
    "print('En el dataset skus hay {} valores que son 0 ó menores que 0'.format((skus['average_price'] <= 0).sum()))\n",
    "print('En el dataset unsold_cars_train hay {} valores que son 0 ó menores que 0'.format((unsold_cars_train['price'] <= 0).sum()))\n",
    "print('En el dataset unsold_cars_test hay {} valores que son 0 ó menores que 0'.format((unsold_cars_test['first_price'] <= 0).sum()))"
   ]
  },
  {
   "cell_type": "code",
   "execution_count": 25,
   "id": "e487200d",
   "metadata": {},
   "outputs": [
    {
     "name": "stdout",
     "output_type": "stream",
     "text": [
      "En el dataset avalaible_cars[year] hay 0 valores que son menores que 1886\n"
     ]
    }
   ],
   "source": [
    "#Corroboremos ahora que la columna que contiene informacion del año en el data set avalaible_cars\n",
    "#no sea menor que 1886, pues en dicho año fue el año del primer automovil con motor de combustion\n",
    "print('En el dataset avalaible_cars[year] hay {} valores que son menores que 1886'.format((avalaible_cars['year'] < 1886).sum()))"
   ]
  },
  {
   "cell_type": "markdown",
   "id": "e8504a78",
   "metadata": {},
   "source": [
    "# Data Preparation"
   ]
  },
  {
   "cell_type": "code",
   "execution_count": 26,
   "id": "08687069",
   "metadata": {},
   "outputs": [],
   "source": [
    "# juntemos la informacion contenida en la base de datos que describe propiedades generales \n",
    "# de cada auto (skus), con la informacion de la base de datos que describe que la informacion\n",
    "#de los autos que en algun momento pudieron estar o estan en nuestro garage (avalaible_cars)\n",
    "#a traves de una caracteristica comun (en los datasets) que es la marca, modelo y año de cada auto.\n",
    "car_information = pd.merge(avalaible_cars, skus, on='car_type', how='left')"
   ]
  },
  {
   "cell_type": "code",
   "execution_count": 27,
   "id": "8cb0f5d7",
   "metadata": {},
   "outputs": [
    {
     "data": {
      "text/html": [
       "<div>\n",
       "<style scoped>\n",
       "    .dataframe tbody tr th:only-of-type {\n",
       "        vertical-align: middle;\n",
       "    }\n",
       "\n",
       "    .dataframe tbody tr th {\n",
       "        vertical-align: top;\n",
       "    }\n",
       "\n",
       "    .dataframe thead th {\n",
       "        text-align: right;\n",
       "    }\n",
       "</style>\n",
       "<table border=\"1\" class=\"dataframe\">\n",
       "  <thead>\n",
       "    <tr style=\"text-align: right;\">\n",
       "      <th></th>\n",
       "      <th>car_id</th>\n",
       "      <th>car_type</th>\n",
       "      <th>color</th>\n",
       "      <th>year</th>\n",
       "      <th>km</th>\n",
       "      <th>average_price</th>\n",
       "      <th>transmission</th>\n",
       "      <th>body_type</th>\n",
       "    </tr>\n",
       "  </thead>\n",
       "  <tbody>\n",
       "    <tr>\n",
       "      <th>0</th>\n",
       "      <td>0</td>\n",
       "      <td>toyota_supra</td>\n",
       "      <td>blue</td>\n",
       "      <td>2020</td>\n",
       "      <td>25848512</td>\n",
       "      <td>194799</td>\n",
       "      <td>manual</td>\n",
       "      <td>sedan</td>\n",
       "    </tr>\n",
       "    <tr>\n",
       "      <th>1</th>\n",
       "      <td>112</td>\n",
       "      <td>toyota_supra</td>\n",
       "      <td>black</td>\n",
       "      <td>2020</td>\n",
       "      <td>25913421</td>\n",
       "      <td>194799</td>\n",
       "      <td>manual</td>\n",
       "      <td>sedan</td>\n",
       "    </tr>\n",
       "    <tr>\n",
       "      <th>2</th>\n",
       "      <td>1497</td>\n",
       "      <td>toyota_supra</td>\n",
       "      <td>black</td>\n",
       "      <td>2020</td>\n",
       "      <td>24069281</td>\n",
       "      <td>194799</td>\n",
       "      <td>manual</td>\n",
       "      <td>sedan</td>\n",
       "    </tr>\n",
       "    <tr>\n",
       "      <th>3</th>\n",
       "      <td>1891</td>\n",
       "      <td>toyota_supra</td>\n",
       "      <td>blue</td>\n",
       "      <td>2020</td>\n",
       "      <td>21828354</td>\n",
       "      <td>194799</td>\n",
       "      <td>manual</td>\n",
       "      <td>sedan</td>\n",
       "    </tr>\n",
       "    <tr>\n",
       "      <th>4</th>\n",
       "      <td>1955</td>\n",
       "      <td>toyota_supra</td>\n",
       "      <td>black</td>\n",
       "      <td>2020</td>\n",
       "      <td>25620849</td>\n",
       "      <td>194799</td>\n",
       "      <td>manual</td>\n",
       "      <td>sedan</td>\n",
       "    </tr>\n",
       "    <tr>\n",
       "      <th>5</th>\n",
       "      <td>2435</td>\n",
       "      <td>toyota_supra</td>\n",
       "      <td>blue</td>\n",
       "      <td>2020</td>\n",
       "      <td>19606492</td>\n",
       "      <td>194799</td>\n",
       "      <td>manual</td>\n",
       "      <td>sedan</td>\n",
       "    </tr>\n",
       "    <tr>\n",
       "      <th>6</th>\n",
       "      <td>2645</td>\n",
       "      <td>toyota_supra</td>\n",
       "      <td>white</td>\n",
       "      <td>2020</td>\n",
       "      <td>21322640</td>\n",
       "      <td>194799</td>\n",
       "      <td>manual</td>\n",
       "      <td>sedan</td>\n",
       "    </tr>\n",
       "    <tr>\n",
       "      <th>7</th>\n",
       "      <td>3640</td>\n",
       "      <td>toyota_supra</td>\n",
       "      <td>black</td>\n",
       "      <td>2020</td>\n",
       "      <td>27858456</td>\n",
       "      <td>194799</td>\n",
       "      <td>manual</td>\n",
       "      <td>sedan</td>\n",
       "    </tr>\n",
       "    <tr>\n",
       "      <th>8</th>\n",
       "      <td>3743</td>\n",
       "      <td>toyota_supra</td>\n",
       "      <td>red</td>\n",
       "      <td>2020</td>\n",
       "      <td>20518362</td>\n",
       "      <td>194799</td>\n",
       "      <td>manual</td>\n",
       "      <td>sedan</td>\n",
       "    </tr>\n",
       "    <tr>\n",
       "      <th>9</th>\n",
       "      <td>4405</td>\n",
       "      <td>toyota_supra</td>\n",
       "      <td>white</td>\n",
       "      <td>2020</td>\n",
       "      <td>24583516</td>\n",
       "      <td>194799</td>\n",
       "      <td>manual</td>\n",
       "      <td>sedan</td>\n",
       "    </tr>\n",
       "  </tbody>\n",
       "</table>\n",
       "</div>"
      ],
      "text/plain": [
       "   car_id      car_type  color  year        km  average_price transmission  \\\n",
       "0       0  toyota_supra   blue  2020  25848512         194799       manual   \n",
       "1     112  toyota_supra  black  2020  25913421         194799       manual   \n",
       "2    1497  toyota_supra  black  2020  24069281         194799       manual   \n",
       "3    1891  toyota_supra   blue  2020  21828354         194799       manual   \n",
       "4    1955  toyota_supra  black  2020  25620849         194799       manual   \n",
       "5    2435  toyota_supra   blue  2020  19606492         194799       manual   \n",
       "6    2645  toyota_supra  white  2020  21322640         194799       manual   \n",
       "7    3640  toyota_supra  black  2020  27858456         194799       manual   \n",
       "8    3743  toyota_supra    red  2020  20518362         194799       manual   \n",
       "9    4405  toyota_supra  white  2020  24583516         194799       manual   \n",
       "\n",
       "  body_type  \n",
       "0     sedan  \n",
       "1     sedan  \n",
       "2     sedan  \n",
       "3     sedan  \n",
       "4     sedan  \n",
       "5     sedan  \n",
       "6     sedan  \n",
       "7     sedan  \n",
       "8     sedan  \n",
       "9     sedan  "
      ]
     },
     "execution_count": 27,
     "metadata": {},
     "output_type": "execute_result"
    }
   ],
   "source": [
    "car_information.head(10)"
   ]
  },
  {
   "cell_type": "markdown",
   "id": "4453b5a4",
   "metadata": {},
   "source": [
    "Recordando el funcionamiento de left outer join de SQL (misma funcion que pd.merge(how='left')), puesto a que consideramos el dataset avalaible_cars como un subconjunto del dataset general skus, entonces, suponiendo esto y que no hay error de captura en el dataset skus, el dataser car_information no debe contener ningun valor NaN en las columnas correspondientes a skus.\n",
    "Comprobemos esto antes de proceder"
   ]
  },
  {
   "cell_type": "code",
   "execution_count": 28,
   "id": "1b55bdd5",
   "metadata": {},
   "outputs": [
    {
     "name": "stdout",
     "output_type": "stream",
     "text": [
      "Hay 0 objetos NaN, None o NaT en el dataset car_information\n"
     ]
    }
   ],
   "source": [
    "print('Hay {} objetos NaN, None o NaT en el dataset car_information'.format(car_information.isnull().sum().sum()))"
   ]
  },
  {
   "cell_type": "code",
   "execution_count": 29,
   "id": "45c34336",
   "metadata": {},
   "outputs": [
    {
     "data": {
      "text/html": [
       "<div>\n",
       "<style scoped>\n",
       "    .dataframe tbody tr th:only-of-type {\n",
       "        vertical-align: middle;\n",
       "    }\n",
       "\n",
       "    .dataframe tbody tr th {\n",
       "        vertical-align: top;\n",
       "    }\n",
       "\n",
       "    .dataframe thead th {\n",
       "        text-align: right;\n",
       "    }\n",
       "</style>\n",
       "<table border=\"1\" class=\"dataframe\">\n",
       "  <thead>\n",
       "    <tr style=\"text-align: right;\">\n",
       "      <th></th>\n",
       "      <th>car_id</th>\n",
       "      <th>car_type</th>\n",
       "      <th>color</th>\n",
       "      <th>year</th>\n",
       "      <th>km</th>\n",
       "      <th>average_price</th>\n",
       "      <th>transmission</th>\n",
       "      <th>body_type</th>\n",
       "    </tr>\n",
       "  </thead>\n",
       "  <tbody>\n",
       "    <tr>\n",
       "      <th>3</th>\n",
       "      <td>1891</td>\n",
       "      <td>toyota_supra</td>\n",
       "      <td>blue</td>\n",
       "      <td>2020</td>\n",
       "      <td>21828354</td>\n",
       "      <td>194799</td>\n",
       "      <td>manual</td>\n",
       "      <td>sedan</td>\n",
       "    </tr>\n",
       "    <tr>\n",
       "      <th>6</th>\n",
       "      <td>2645</td>\n",
       "      <td>toyota_supra</td>\n",
       "      <td>white</td>\n",
       "      <td>2020</td>\n",
       "      <td>21322640</td>\n",
       "      <td>194799</td>\n",
       "      <td>manual</td>\n",
       "      <td>sedan</td>\n",
       "    </tr>\n",
       "    <tr>\n",
       "      <th>8</th>\n",
       "      <td>3743</td>\n",
       "      <td>toyota_supra</td>\n",
       "      <td>red</td>\n",
       "      <td>2020</td>\n",
       "      <td>20518362</td>\n",
       "      <td>194799</td>\n",
       "      <td>manual</td>\n",
       "      <td>sedan</td>\n",
       "    </tr>\n",
       "    <tr>\n",
       "      <th>11</th>\n",
       "      <td>5083</td>\n",
       "      <td>toyota_supra</td>\n",
       "      <td>black</td>\n",
       "      <td>2020</td>\n",
       "      <td>27073159</td>\n",
       "      <td>194799</td>\n",
       "      <td>manual</td>\n",
       "      <td>sedan</td>\n",
       "    </tr>\n",
       "    <tr>\n",
       "      <th>15</th>\n",
       "      <td>7156</td>\n",
       "      <td>toyota_supra</td>\n",
       "      <td>red</td>\n",
       "      <td>2020</td>\n",
       "      <td>21071772</td>\n",
       "      <td>194799</td>\n",
       "      <td>manual</td>\n",
       "      <td>sedan</td>\n",
       "    </tr>\n",
       "    <tr>\n",
       "      <th>19</th>\n",
       "      <td>8162</td>\n",
       "      <td>toyota_supra</td>\n",
       "      <td>blue</td>\n",
       "      <td>2020</td>\n",
       "      <td>24400569</td>\n",
       "      <td>194799</td>\n",
       "      <td>manual</td>\n",
       "      <td>sedan</td>\n",
       "    </tr>\n",
       "    <tr>\n",
       "      <th>22</th>\n",
       "      <td>11436</td>\n",
       "      <td>toyota_supra</td>\n",
       "      <td>red</td>\n",
       "      <td>2020</td>\n",
       "      <td>21080514</td>\n",
       "      <td>194799</td>\n",
       "      <td>manual</td>\n",
       "      <td>sedan</td>\n",
       "    </tr>\n",
       "    <tr>\n",
       "      <th>24</th>\n",
       "      <td>13253</td>\n",
       "      <td>toyota_supra</td>\n",
       "      <td>black</td>\n",
       "      <td>2020</td>\n",
       "      <td>24149145</td>\n",
       "      <td>194799</td>\n",
       "      <td>manual</td>\n",
       "      <td>sedan</td>\n",
       "    </tr>\n",
       "    <tr>\n",
       "      <th>30</th>\n",
       "      <td>17495</td>\n",
       "      <td>toyota_supra</td>\n",
       "      <td>black</td>\n",
       "      <td>2020</td>\n",
       "      <td>18865426</td>\n",
       "      <td>194799</td>\n",
       "      <td>manual</td>\n",
       "      <td>sedan</td>\n",
       "    </tr>\n",
       "    <tr>\n",
       "      <th>32</th>\n",
       "      <td>19780</td>\n",
       "      <td>toyota_supra</td>\n",
       "      <td>white</td>\n",
       "      <td>2020</td>\n",
       "      <td>26141271</td>\n",
       "      <td>194799</td>\n",
       "      <td>manual</td>\n",
       "      <td>sedan</td>\n",
       "    </tr>\n",
       "  </tbody>\n",
       "</table>\n",
       "</div>"
      ],
      "text/plain": [
       "    car_id      car_type  color  year        km  average_price transmission  \\\n",
       "3     1891  toyota_supra   blue  2020  21828354         194799       manual   \n",
       "6     2645  toyota_supra  white  2020  21322640         194799       manual   \n",
       "8     3743  toyota_supra    red  2020  20518362         194799       manual   \n",
       "11    5083  toyota_supra  black  2020  27073159         194799       manual   \n",
       "15    7156  toyota_supra    red  2020  21071772         194799       manual   \n",
       "19    8162  toyota_supra   blue  2020  24400569         194799       manual   \n",
       "22   11436  toyota_supra    red  2020  21080514         194799       manual   \n",
       "24   13253  toyota_supra  black  2020  24149145         194799       manual   \n",
       "30   17495  toyota_supra  black  2020  18865426         194799       manual   \n",
       "32   19780  toyota_supra  white  2020  26141271         194799       manual   \n",
       "\n",
       "   body_type  \n",
       "3      sedan  \n",
       "6      sedan  \n",
       "8      sedan  \n",
       "11     sedan  \n",
       "15     sedan  \n",
       "19     sedan  \n",
       "22     sedan  \n",
       "24     sedan  \n",
       "30     sedan  \n",
       "32     sedan  "
      ]
     },
     "execution_count": 29,
     "metadata": {},
     "output_type": "execute_result"
    }
   ],
   "source": [
    "#Procedemos a obtener un conjunto de entrenamiento y prueba a partir del dataset cars_information\n",
    "#refeerenciamos los valores id de los carros contenidos en el dataset unsold_cars_train\n",
    "car_ids_train = unsold_cars_train.car_id\n",
    "\n",
    "#creamos una lista para copiar los valores anteriores (id carros)\n",
    "car_information_ids_train = []\n",
    "\n",
    "#procedemos a copiarlos mediante un ciclo for\n",
    "#itera sobre toda la longitud del dataset unsold_cars_train\n",
    "for i in range(len(unsold_cars_train)):\n",
    "    #copia los valores mediante un append\n",
    "    car_information_ids_train.append(car_ids_train[i])\n",
    "    \n",
    "#procedemos a crear el conjunto de entrenamiento esto a traves de los identificadores (car_id)\n",
    "#presentes en car_information bajo la condicion de que dichos identificadores se encuentren\n",
    "#tambien en los identificadores del conjunto unsold_cars_train\n",
    "car_info_train = car_information[car_information.car_id.isin(car_information_ids_train)]\n",
    "\n",
    "#Para crear el conjunto de prueba hacemos uso de la misma condicion pero negada, es decir,\n",
    "#el conjunto de prueba consta de todos los identificadores (car_id) presentes en el conjunto\n",
    "#car_information siempre y cuando éstos no se encuentren en el conunto conjunto unsold_cars_train\n",
    "#el simbolo ~ representa negacion del postulado\n",
    "car_info_test = car_information[~car_information.car_id.isin(car_information_ids_train)]\n",
    "\n",
    "#mostramos los primeros 10 elementos del conjunto de entrenamiento recien construido:\n",
    "car_info_train.head(10)"
   ]
  },
  {
   "cell_type": "code",
   "execution_count": 30,
   "id": "f9cc3adf",
   "metadata": {},
   "outputs": [],
   "source": [
    "#Para conocer la cantidad de tiempo que un auto ha pasado antes de ser vendido\n",
    "# se usa la funcion de agregacion groupby.('car_id').sold, la cual genera grupos\n",
    "#de valores booleanos (sold) de acuerdo con car_id, es decir cada grupo, correspondera\n",
    "#a un único auto (car_id), el cual contendrá los valores sold para dicho unico car_id.\n",
    "#puesto a que un coche que ya ha sido vendido puede adquirir en una sola fecha el valor\n",
    "#True, la cual será la más reciente, es posible realizar un ordenamiento de las fechas\n",
    "#de mas antigua a mas reciente al conocer la condicion de sold. Esto se realiza a traves\n",
    "#de la funcion tansform('max') == condicion\n",
    "car_series = unsold_cars_train[unsold_cars_train.groupby('car_id').sold.transform('max') == True]\n",
    "\n",
    "\n",
    "#el agrupamiento a traves de group by no altera los valores de las otras columnas.\n",
    "#una vez que se tiene un conjunto agrupado por car_id y ordenado por fecha para cada id\n",
    "#es posible contar cuantos dias un auto pasó en el garage antes de ser vendido\n",
    "#para ello se realizan grupos cuyos valores contendran la cuenta de los días para cada id.\n",
    "#para contar los dias se aplica unicamente el conteo de filas en cada grupo, pues, suponemos\n",
    "#que el registro fue rellenado cada día, esto se realiza atraves de la funcion count()\n",
    "#la funcion reset index permite regresar al typo pandas.DataFrame, ya que la funcion\n",
    "#de agregacion regresa un typo pandas.Series\n",
    "car_series_days = car_series.groupby('car_id').day.count().reset_index()"
   ]
  },
  {
   "cell_type": "code",
   "execution_count": 31,
   "id": "18a2f537",
   "metadata": {},
   "outputs": [
    {
     "data": {
      "text/html": [
       "<div>\n",
       "<style scoped>\n",
       "    .dataframe tbody tr th:only-of-type {\n",
       "        vertical-align: middle;\n",
       "    }\n",
       "\n",
       "    .dataframe tbody tr th {\n",
       "        vertical-align: top;\n",
       "    }\n",
       "\n",
       "    .dataframe thead th {\n",
       "        text-align: right;\n",
       "    }\n",
       "</style>\n",
       "<table border=\"1\" class=\"dataframe\">\n",
       "  <thead>\n",
       "    <tr style=\"text-align: right;\">\n",
       "      <th></th>\n",
       "      <th>day</th>\n",
       "      <th>car_id</th>\n",
       "      <th>price</th>\n",
       "      <th>sold</th>\n",
       "    </tr>\n",
       "  </thead>\n",
       "  <tbody>\n",
       "    <tr>\n",
       "      <th>0</th>\n",
       "      <td>2019-02-09</td>\n",
       "      <td>1891</td>\n",
       "      <td>212457</td>\n",
       "      <td>False</td>\n",
       "    </tr>\n",
       "    <tr>\n",
       "      <th>1</th>\n",
       "      <td>2019-02-10</td>\n",
       "      <td>1891</td>\n",
       "      <td>212412</td>\n",
       "      <td>False</td>\n",
       "    </tr>\n",
       "    <tr>\n",
       "      <th>2</th>\n",
       "      <td>2019-02-11</td>\n",
       "      <td>1891</td>\n",
       "      <td>212367</td>\n",
       "      <td>False</td>\n",
       "    </tr>\n",
       "    <tr>\n",
       "      <th>3</th>\n",
       "      <td>2019-02-12</td>\n",
       "      <td>1891</td>\n",
       "      <td>212322</td>\n",
       "      <td>False</td>\n",
       "    </tr>\n",
       "    <tr>\n",
       "      <th>4</th>\n",
       "      <td>2019-02-13</td>\n",
       "      <td>1891</td>\n",
       "      <td>212277</td>\n",
       "      <td>False</td>\n",
       "    </tr>\n",
       "    <tr>\n",
       "      <th>5</th>\n",
       "      <td>2019-02-14</td>\n",
       "      <td>1891</td>\n",
       "      <td>212232</td>\n",
       "      <td>False</td>\n",
       "    </tr>\n",
       "    <tr>\n",
       "      <th>6</th>\n",
       "      <td>2019-02-15</td>\n",
       "      <td>1891</td>\n",
       "      <td>212187</td>\n",
       "      <td>False</td>\n",
       "    </tr>\n",
       "    <tr>\n",
       "      <th>7</th>\n",
       "      <td>2019-02-16</td>\n",
       "      <td>1891</td>\n",
       "      <td>212142</td>\n",
       "      <td>False</td>\n",
       "    </tr>\n",
       "    <tr>\n",
       "      <th>8</th>\n",
       "      <td>2019-02-17</td>\n",
       "      <td>1891</td>\n",
       "      <td>212097</td>\n",
       "      <td>False</td>\n",
       "    </tr>\n",
       "    <tr>\n",
       "      <th>9</th>\n",
       "      <td>2019-02-18</td>\n",
       "      <td>1891</td>\n",
       "      <td>212052</td>\n",
       "      <td>False</td>\n",
       "    </tr>\n",
       "  </tbody>\n",
       "</table>\n",
       "</div>"
      ],
      "text/plain": [
       "         day  car_id   price   sold\n",
       "0 2019-02-09    1891  212457  False\n",
       "1 2019-02-10    1891  212412  False\n",
       "2 2019-02-11    1891  212367  False\n",
       "3 2019-02-12    1891  212322  False\n",
       "4 2019-02-13    1891  212277  False\n",
       "5 2019-02-14    1891  212232  False\n",
       "6 2019-02-15    1891  212187  False\n",
       "7 2019-02-16    1891  212142  False\n",
       "8 2019-02-17    1891  212097  False\n",
       "9 2019-02-18    1891  212052  False"
      ]
     },
     "execution_count": 31,
     "metadata": {},
     "output_type": "execute_result"
    }
   ],
   "source": [
    "#mostramos los primeros diez elementos de ambos conjuntos recien creados\n",
    "car_series.head(10)"
   ]
  },
  {
   "cell_type": "code",
   "execution_count": 32,
   "id": "a7c693b8",
   "metadata": {},
   "outputs": [
    {
     "data": {
      "text/html": [
       "<div>\n",
       "<style scoped>\n",
       "    .dataframe tbody tr th:only-of-type {\n",
       "        vertical-align: middle;\n",
       "    }\n",
       "\n",
       "    .dataframe tbody tr th {\n",
       "        vertical-align: top;\n",
       "    }\n",
       "\n",
       "    .dataframe thead th {\n",
       "        text-align: right;\n",
       "    }\n",
       "</style>\n",
       "<table border=\"1\" class=\"dataframe\">\n",
       "  <thead>\n",
       "    <tr style=\"text-align: right;\">\n",
       "      <th></th>\n",
       "      <th>car_id</th>\n",
       "      <th>day</th>\n",
       "    </tr>\n",
       "  </thead>\n",
       "  <tbody>\n",
       "    <tr>\n",
       "      <th>0</th>\n",
       "      <td>6</td>\n",
       "      <td>13</td>\n",
       "    </tr>\n",
       "    <tr>\n",
       "      <th>1</th>\n",
       "      <td>8</td>\n",
       "      <td>38</td>\n",
       "    </tr>\n",
       "    <tr>\n",
       "      <th>2</th>\n",
       "      <td>11</td>\n",
       "      <td>12</td>\n",
       "    </tr>\n",
       "    <tr>\n",
       "      <th>3</th>\n",
       "      <td>12</td>\n",
       "      <td>10</td>\n",
       "    </tr>\n",
       "    <tr>\n",
       "      <th>4</th>\n",
       "      <td>14</td>\n",
       "      <td>11</td>\n",
       "    </tr>\n",
       "    <tr>\n",
       "      <th>5</th>\n",
       "      <td>17</td>\n",
       "      <td>38</td>\n",
       "    </tr>\n",
       "    <tr>\n",
       "      <th>6</th>\n",
       "      <td>25</td>\n",
       "      <td>19</td>\n",
       "    </tr>\n",
       "    <tr>\n",
       "      <th>7</th>\n",
       "      <td>31</td>\n",
       "      <td>19</td>\n",
       "    </tr>\n",
       "    <tr>\n",
       "      <th>8</th>\n",
       "      <td>34</td>\n",
       "      <td>1</td>\n",
       "    </tr>\n",
       "    <tr>\n",
       "      <th>9</th>\n",
       "      <td>37</td>\n",
       "      <td>11</td>\n",
       "    </tr>\n",
       "  </tbody>\n",
       "</table>\n",
       "</div>"
      ],
      "text/plain": [
       "   car_id  day\n",
       "0       6   13\n",
       "1       8   38\n",
       "2      11   12\n",
       "3      12   10\n",
       "4      14   11\n",
       "5      17   38\n",
       "6      25   19\n",
       "7      31   19\n",
       "8      34    1\n",
       "9      37   11"
      ]
     },
     "execution_count": 32,
     "metadata": {},
     "output_type": "execute_result"
    }
   ],
   "source": [
    "car_series_days.head(10)"
   ]
  },
  {
   "cell_type": "code",
   "execution_count": 33,
   "id": "dca9b9cf",
   "metadata": {},
   "outputs": [
    {
     "name": "stdout",
     "output_type": "stream",
     "text": [
      "Se encontraron autos nuevos o que al dia de su llegada fueron vendidos\n"
     ]
    }
   ],
   "source": [
    "#dado a que se eliminaron valores es necesario reiniciar los indices de estos dos datasets\n",
    "car_series.reset_index(inplace=True, drop=True)\n",
    "#Comprobemos si la regla de registro para cada auto se cumplio diariamente, en caso contrario\n",
    "#debemos modificar los valores de day en la tabla car_series_days\n",
    "#crea una lista y una variable dummy para contar aquellos autos para los cuales solo tienen\n",
    "#un dia de antiguedad, es decir llegaron hoy.\n",
    "new_cars = 0\n",
    "id_new_cars = []\n",
    "#itera sobre los indices unicos de los autos car_id\n",
    "for id_cars in np.unique(car_series['car_id'].values):\n",
    "    #obten las posiciones relativas en el dataset original, esto para poder distinguir y saber\n",
    "    #que se trata de un auto con un solo id\n",
    "    positions = np.where(car_series['car_id']==id_cars)[0]\n",
    "    # si el auto con el identificador especifico tiene dos o mas registros, entonces\n",
    "    #tiene de antiguedad dos o mas dias, entonces es posible calcular la diferencia\n",
    "    #de dias entre cada registro\n",
    "    if positions.shape[0] >= 2:\n",
    "        #crea un array con todos los registros de dia expecto el primero\n",
    "        delta1 = car_series['day'][positions[1:]].to_numpy()\n",
    "        #crea un array con todos los registros de dia expecto el ultimo\n",
    "        delta2 = car_series['day'][positions[:-1]].to_numpy()\n",
    "        #calcula la diferencia haciendo uso de estos arrays, que por su construccion\n",
    "        #nos asegura que en cada posicion se obtiene la resta entre renglones consecutivos\n",
    "        days_between = (delta1-delta2).astype('timedelta64[D]').astype(np.float32)\n",
    "        #calcula la media del array de diferencias, si esta media es mayor que 1.0, entonces\n",
    "        #existe un error en el registro\n",
    "        mean_days_between = np.mean(days_between)\n",
    "        # si encuentra un error en el registro imprime este mensaje\n",
    "        if mean_days_between >= 1.01:\n",
    "            print('El auto con car_id {} no cumple con la norma de haber sido registrado diariamente'.format(id_cars))\n",
    "    else:\n",
    "        ## si el auto con el identificador especifico tiene un solo registro, entonces\n",
    "        #el auto es nuevo o duro solo un dia con nosotros, si es el caso aumenta el contador y guarda el identificador\n",
    "        new_cars+=1\n",
    "        id_new_cars.append(id_cars)\n",
    "    \n",
    "if new_cars!=0:\n",
    "    print('Se encontraron autos nuevos o que al dia de su llegada fueron vendidos')"
   ]
  },
  {
   "cell_type": "markdown",
   "id": "d2185cfb",
   "metadata": {},
   "source": [
    "De esta comprobacion sencilla hemos encontrado informacion relevante: existen coches recien llegados o que el dia de su llegada fueron vendidos.\n",
    "Puesto a que estamos interesados en un modelo de regresion predictivo, el conjunto de entrenamiento no debe contener muestras para las cuales la informacion no sea suficiente, como es el caso de los autos recien llegados que no han sido vendidos. Supondremos por simplicidad que aquellos autos que tienen al menos un dia aportan informacion relevante. Aunque esta suposicion puede relajarse o hacerse mas restrictiva simplemente cambiando el valor *if positions.shape[0]>=valor (linea 15 de la celda anterior)"
   ]
  },
  {
   "cell_type": "markdown",
   "id": "6a867984",
   "metadata": {},
   "source": [
    "Comprobemos ahora, que no existen automobiles, que si existen en el registro, pero que NO han sido vendidos, pues si estos se consideran, se estaría comentiendo un error, ya que estos no deben ser considerados dentro del conjunto de entrenamiento. Recordemos que nuestro fin consiste en modelar la contidad de tiempo que un auto pasa en el garage antes de ser vendido, lo cual implica que cada auto debio haber sido vendido."
   ]
  },
  {
   "cell_type": "code",
   "execution_count": 34,
   "id": "3a828226",
   "metadata": {},
   "outputs": [
    {
     "name": "stdout",
     "output_type": "stream",
     "text": [
      "sold\n",
      "False    154637\n",
      "True       6885\n",
      "dtype: int64\n"
     ]
    }
   ],
   "source": [
    "#del conjunto car series, construido a partir de los datos de train, extraeremos,\n",
    "#dos grupos tales que uno de ellos contenga el valor sold = True, mientras que el otro\n",
    "#tenga valor sold=False, para comprobar que los autos han sido vendidos observaremos\n",
    "#la cantidad de autos en el grupo con valor sold=True y este lo compararemos con la cantidad\n",
    "#de identificadores unicos en el mismo registro, es decir la cantidad de autos disponibles de\n",
    "#acuerdo con su car_id único.\n",
    "\n",
    "#obtenemos los grupos con valor sold = True y False, al realizar la operacion groupby('sold')\n",
    "#al conjunto car_series\n",
    "print(car_series.groupby('sold').size())"
   ]
  },
  {
   "cell_type": "code",
   "execution_count": 35,
   "id": "8fccc7eb",
   "metadata": {},
   "outputs": [
    {
     "name": "stdout",
     "output_type": "stream",
     "text": [
      "La cantidad de autos vendidos y la cantidad de autos en el conjunto car_series, es la misma\n"
     ]
    }
   ],
   "source": [
    "#la cantidad de autos corresponde al tamaño del grupo True, este valor lo asignamos a una variable\n",
    "solded_cars =car_series.groupby('sold').size()[1]\n",
    "\n",
    "#obtengamos la cantidad de identificadores unicos car_id en el conjunto \n",
    "#car_series, la busqueda de identificadores unicos se realiza con la funcion np.unique(valores)\n",
    "cars_quantity = np.unique(car_series['car_id'].values).shape[0]\n",
    "\n",
    "#comparemos ambas cantidades, en caso de que difieran tendremos que limpiar, nuevamente el conjunto\n",
    "if (solded_cars == cars_quantity):\n",
    "    print('La cantidad de autos vendidos y la cantidad de autos en el conjunto car_series, es la misma')\n",
    "else:\n",
    "    print('La cantidad de autos vendidos y la cantidad de autos en el conjunto car_series, NO es la misma.'\n",
    "          ' Proceda a limpiar el conjunto car_series')"
   ]
  },
  {
   "cell_type": "markdown",
   "id": "1920fbc3",
   "metadata": {},
   "source": [
    "## Modeling"
   ]
  },
  {
   "cell_type": "markdown",
   "id": "933e7c7f",
   "metadata": {},
   "source": [
    "Puesto a que se requiere generar un modelo, que prediga la cantidad de tiempo, en días, que un auto permanecerá en el inventario. Nos enfrentamos a un problema de regresión, donde la cantidad en días, variable DI es una cantidad continua no discretizable.\n",
    "Ahora bien, del tratamiento anterior sabemos que los datos se encuentran limpios y listos para ser aplicados a un modelo de regresion. Por cuestiones comparativas usaremos primero el modelo\n",
    "de Random Forest Regresion, empleado en el trabajo anteriormente presentado. Ademas exploraremos otras alternativas."
   ]
  },
  {
   "cell_type": "code",
   "execution_count": 36,
   "id": "99914ca7",
   "metadata": {},
   "outputs": [],
   "source": [
    "#importamos librerias utiles de scikit\n",
    "from sklearn.ensemble import RandomForestRegressor\n",
    "from sklearn.preprocessing import LabelEncoder"
   ]
  },
  {
   "cell_type": "code",
   "execution_count": 37,
   "id": "a94bbdea",
   "metadata": {},
   "outputs": [
    {
     "name": "stdout",
     "output_type": "stream",
     "text": [
      "El conjunto X, tiene 7 columnas y 19983 filas\n"
     ]
    }
   ],
   "source": [
    "#modificamos, copiamos nuestro conjunto car_info_train a modo de que los identificadores funjan\n",
    "#como indices, esto es especialmente util para relacionar los valores en este conjunto\n",
    "#con otros conjuntos\n",
    "X = car_info_train.set_index('car_id')\n",
    "\n",
    "#puesto a que, como ya vimos en nuestro conjunto de entrenamiento, existen unicamente\n",
    "#6885 autos unicos, y puesto a que hemos obtenido la cantidad de dias que pasado en nuestro\n",
    "#garage antes de ser vendidos (dataset car_series_days), es posible \"omitir\", aquella informacion\n",
    "#repetitiva, que nos fue util para obtener la cantidad de dias. Entonces, nuestro conjunto de\n",
    "#entrenamiento en el cual realizaremos regresion, constara de caracteristicas de cada coche en,\n",
    "#particular. Para descartar dicha info repetitiva y quedarnos unicamente con informacion unica de cada\n",
    "#auto empleamos la funcion .loc[valor], donde valor corresponde al identificador unico de cada\n",
    "#auto, el cual por construccion es facilmente localizable en la columna car_id del conjunto\n",
    "#car_series_days\n",
    "X = X.loc[car_series_days.car_id]\n",
    "\n",
    "#imprimamos la longitud o tamaño de este conjunto de entrenamiento\n",
    "print('El conjunto X, tiene {} columnas y {} filas'.format(X.shape[1], X.shape[0] ))"
   ]
  },
  {
   "cell_type": "code",
   "execution_count": 38,
   "id": "e12e9ef3",
   "metadata": {},
   "outputs": [],
   "source": [
    "#modificamos, copiamos nuestro conjunto car_info_test a modo de que los identificadores funjan\n",
    "#como indices, esto es especialmente util para relacionar los valores en este conjunto\n",
    "#con otros conjuntos\n",
    "X_test = car_info_test.set_index('car_id')\n",
    "\n",
    "#empleamos el mismo argumento que con el conjunto X, para descartar informacion repetitiva\n",
    "#pero usando el conjunto unsold_cars_test y los identificadores car_id\n",
    "X_test = X_test.loc[unsold_cars_test.car_id]\n",
    "\n",
    "#La linea en el codigo original\n",
    "#car_info_test.set_index('car_id').loc[test.car_id].reset_index().drop_duplicates(subset=['car_id']).drop('car_id',axis=1)\n",
    "#toma el conjunto X_test modificado en la linea 8 de esta celda, resetea los indices, de tal forma\n",
    "#que estos corran de 0 hasta filas-1 (funcion reset_index()), los indices anteriores se guardan en\n",
    "#una columna, la cual es eliminada con la funcion drop('car_id',axis=1), finalmente,\n",
    "#drop_duplicates(subset=['car_id']) elimina filas duplicadas en X_text\n",
    "#Esta linea de codigo es incorrecta, pues al eliminar el identificador de cada auto car_id, no\n",
    "#tendremos la posibilidad de relacionarlo con sus respectivas predicciones, lo cual será\n",
    "#nuestro reporte de clasificacion. Por otro lado, puesto a que verificamos la no existencia de\n",
    "#entradas duplicadas en los primeros conjuntos, y car_info_test proviene de ellos, estamos seguros\n",
    "#de que no existen entradas duplicadas en X_test.\n",
    "\n",
    "#A partir de X creamos los conjuntos de entrenamiento y validacion, con las proporciones\n",
    "#80% y 20% respectivamente, estas porciones se toman aleatoriamente de X con la funcion .sample(frac=porcion)\n",
    "X_train = X.sample(frac=0.8, random_state=2021)\n",
    "X_val = X.sample(frac=0.1, random_state=2021)\n",
    "\n",
    "#Creamos las variables dependientes de cada uno de los autos, estas variables son solamente\n",
    "#la cantidad de dias, al conjunto de estas variables lo llamaremos Y_train y Y_test\n",
    "#y ajustaremos los indices a car_id, y se copiamos los dias a sus respectivos conjuntos (train o val)\n",
    "#con la funcion .loc[conjunto.indice].dias\n",
    "Y_train = car_series_days.set_index('car_id').loc[X_train.index].day\n",
    "Y_val = car_series_days.set_index('car_id').loc[X_val.index].day"
   ]
  },
  {
   "cell_type": "code",
   "execution_count": 39,
   "id": "d92cb2fd",
   "metadata": {},
   "outputs": [
    {
     "data": {
      "text/html": [
       "<div>\n",
       "<style scoped>\n",
       "    .dataframe tbody tr th:only-of-type {\n",
       "        vertical-align: middle;\n",
       "    }\n",
       "\n",
       "    .dataframe tbody tr th {\n",
       "        vertical-align: top;\n",
       "    }\n",
       "\n",
       "    .dataframe thead th {\n",
       "        text-align: right;\n",
       "    }\n",
       "</style>\n",
       "<table border=\"1\" class=\"dataframe\">\n",
       "  <thead>\n",
       "    <tr style=\"text-align: right;\">\n",
       "      <th></th>\n",
       "      <th>car_type</th>\n",
       "      <th>color</th>\n",
       "      <th>year</th>\n",
       "      <th>km</th>\n",
       "      <th>average_price</th>\n",
       "      <th>transmission</th>\n",
       "      <th>body_type</th>\n",
       "    </tr>\n",
       "    <tr>\n",
       "      <th>car_id</th>\n",
       "      <th></th>\n",
       "      <th></th>\n",
       "      <th></th>\n",
       "      <th></th>\n",
       "      <th></th>\n",
       "      <th></th>\n",
       "      <th></th>\n",
       "    </tr>\n",
       "  </thead>\n",
       "  <tbody>\n",
       "    <tr>\n",
       "      <th>2904</th>\n",
       "      <td>toyota_avanza</td>\n",
       "      <td>blue</td>\n",
       "      <td>2008</td>\n",
       "      <td>18828595</td>\n",
       "      <td>643865</td>\n",
       "      <td>automatic</td>\n",
       "      <td>truck</td>\n",
       "    </tr>\n",
       "    <tr>\n",
       "      <th>11858</th>\n",
       "      <td>nissan_tiida</td>\n",
       "      <td>black</td>\n",
       "      <td>2015</td>\n",
       "      <td>35817453</td>\n",
       "      <td>689138</td>\n",
       "      <td>automatic</td>\n",
       "      <td>sedan</td>\n",
       "    </tr>\n",
       "    <tr>\n",
       "      <th>19318</th>\n",
       "      <td>ford_escape</td>\n",
       "      <td>blue</td>\n",
       "      <td>2008</td>\n",
       "      <td>31766474</td>\n",
       "      <td>142589</td>\n",
       "      <td>automatic</td>\n",
       "      <td>sedan</td>\n",
       "    </tr>\n",
       "    <tr>\n",
       "      <th>16187</th>\n",
       "      <td>mercedesbenz_clasegla</td>\n",
       "      <td>white</td>\n",
       "      <td>2018</td>\n",
       "      <td>31848063</td>\n",
       "      <td>469427</td>\n",
       "      <td>automatic</td>\n",
       "      <td>sedan</td>\n",
       "    </tr>\n",
       "    <tr>\n",
       "      <th>2527</th>\n",
       "      <td>fiat_ducato</td>\n",
       "      <td>blue</td>\n",
       "      <td>2013</td>\n",
       "      <td>15017647</td>\n",
       "      <td>827946</td>\n",
       "      <td>automatic</td>\n",
       "      <td>suv</td>\n",
       "    </tr>\n",
       "  </tbody>\n",
       "</table>\n",
       "</div>"
      ],
      "text/plain": [
       "                     car_type  color  year        km  average_price  \\\n",
       "car_id                                                                \n",
       "2904            toyota_avanza   blue  2008  18828595         643865   \n",
       "11858            nissan_tiida  black  2015  35817453         689138   \n",
       "19318             ford_escape   blue  2008  31766474         142589   \n",
       "16187   mercedesbenz_clasegla  white  2018  31848063         469427   \n",
       "2527              fiat_ducato   blue  2013  15017647         827946   \n",
       "\n",
       "       transmission body_type  \n",
       "car_id                         \n",
       "2904      automatic     truck  \n",
       "11858     automatic     sedan  \n",
       "19318     automatic     sedan  \n",
       "16187     automatic     sedan  \n",
       "2527      automatic       suv  "
      ]
     },
     "execution_count": 39,
     "metadata": {},
     "output_type": "execute_result"
    }
   ],
   "source": [
    "#mostramos los primeros 5 elementos de los conjuntos X_train, Y_train\n",
    "X_train.head(5)"
   ]
  },
  {
   "cell_type": "code",
   "execution_count": 40,
   "id": "9b07d0d7",
   "metadata": {},
   "outputs": [
    {
     "data": {
      "text/plain": [
       "car_id\n",
       "2904     33\n",
       "11858    47\n",
       "19318    43\n",
       "16187    21\n",
       "2527      5\n",
       "Name: day, dtype: int64"
      ]
     },
     "execution_count": 40,
     "metadata": {},
     "output_type": "execute_result"
    }
   ],
   "source": [
    "Y_train.head(5)"
   ]
  },
  {
   "cell_type": "markdown",
   "id": "d2db2989",
   "metadata": {},
   "source": [
    "Las variables categoricas tales como car_type, color, transmission y #body_type\n",
    "no pueden ser analizadas directamente por una maquina por lo que deben ser enumeradas\n",
    "de acuerdo a valores unicos, por ejemplo, suponga que tenemos el sig conjunto de colores\n",
    "[blanco, rojo, rojo, azul] la transformacion de variables catogoricas asignara un unico valor\n",
    " a un unico color, supongamos que lo hacemos asi: azul-> 1, blanco-> 2 y rojo->3, de esta forma\n",
    "podemos transformar el data set anterior de la siguiente forma [blanco, rojo, rojo, azul] -> [2,3,3,1]\n",
    "y con ello entrenar el regresor"
   ]
  },
  {
   "cell_type": "code",
   "execution_count": 41,
   "id": "cd07669f",
   "metadata": {},
   "outputs": [],
   "source": [
    "#Para hacer esto instanciamos la herramienta de scikit LabelEncoder(), la cual puede\n",
    "#transformar las variables categoricas en numericas de forma automatica\n",
    "cat_enc = LabelEncoder()\n",
    "\n",
    "#para poder iterar y transformar las variables presentes en el dataset creamos una\n",
    "#lista que contiene los nombres de dichas variables, en el codigo original\n",
    "#el año era tratado como una variable categorica, sin embargo esto no es asi,\n",
    "#la variable año es discreta y continua, por lo que no lo consideramos en esta\n",
    "#transformacion\n",
    "categorical_columns = ['car_type', 'color', 'transmission', 'body_type']\n",
    "\n",
    "#iteramos sobre las columnas de los conjuntos X_val, X_train y X_test para realizar\n",
    "#dicha transformacion, siendo estas transformacion realizadas al llamar el metodo \n",
    "#fit transform de la clase LabelEncoder() \n",
    "for col in categorical_columns:\n",
    "    X_train[col] = cat_enc.fit_transform(X_train[col])\n",
    "    X_val[col] = cat_enc.fit_transform(X_val[col])\n",
    "    X_test[col] = cat_enc.fit_transform(X_test[col])\n",
    "\n",
    "#se reparo el warning que arrojaba el codigo anterior, relacionado con la dimension\n",
    "#de los valores pasados a cat_enc, esto se soluciono al eliminar las llaves extras []\n",
    "# cambiamos de X_test[[col]] a X_test[col]"
   ]
  },
  {
   "cell_type": "markdown",
   "id": "98d59aba",
   "metadata": {},
   "source": [
    "un comentario con respecto al conjunto que se considera en el codigo original es que en si no se hubiesen quitado los años que estaban contemplados en la informacion car_type, se estaria considerando que un auto marca_modelo_año es diferente a uno cuya informacion sea marca_modelo_año+1 etc, aun cuando se tratase de un auto de la misma marca y modelo.\n",
    "Este caso ya no se presenta aquí pues hemos retirado el año de los datos presentes en car_type, tal y como se mencionó anteriormente."
   ]
  },
  {
   "cell_type": "code",
   "execution_count": 42,
   "id": "22199a89",
   "metadata": {},
   "outputs": [
    {
     "data": {
      "text/html": [
       "<div>\n",
       "<style scoped>\n",
       "    .dataframe tbody tr th:only-of-type {\n",
       "        vertical-align: middle;\n",
       "    }\n",
       "\n",
       "    .dataframe tbody tr th {\n",
       "        vertical-align: top;\n",
       "    }\n",
       "\n",
       "    .dataframe thead th {\n",
       "        text-align: right;\n",
       "    }\n",
       "</style>\n",
       "<table border=\"1\" class=\"dataframe\">\n",
       "  <thead>\n",
       "    <tr style=\"text-align: right;\">\n",
       "      <th></th>\n",
       "      <th>car_type</th>\n",
       "      <th>color</th>\n",
       "      <th>year</th>\n",
       "      <th>km</th>\n",
       "      <th>average_price</th>\n",
       "      <th>transmission</th>\n",
       "      <th>body_type</th>\n",
       "    </tr>\n",
       "    <tr>\n",
       "      <th>car_id</th>\n",
       "      <th></th>\n",
       "      <th></th>\n",
       "      <th></th>\n",
       "      <th></th>\n",
       "      <th></th>\n",
       "      <th></th>\n",
       "      <th></th>\n",
       "    </tr>\n",
       "  </thead>\n",
       "  <tbody>\n",
       "    <tr>\n",
       "      <th>0</th>\n",
       "      <td>329</td>\n",
       "      <td>1</td>\n",
       "      <td>2020</td>\n",
       "      <td>25848512</td>\n",
       "      <td>194799</td>\n",
       "      <td>1</td>\n",
       "      <td>1</td>\n",
       "    </tr>\n",
       "    <tr>\n",
       "      <th>1</th>\n",
       "      <td>345</td>\n",
       "      <td>4</td>\n",
       "      <td>2008</td>\n",
       "      <td>14279745</td>\n",
       "      <td>230948</td>\n",
       "      <td>0</td>\n",
       "      <td>2</td>\n",
       "    </tr>\n",
       "    <tr>\n",
       "      <th>1</th>\n",
       "      <td>345</td>\n",
       "      <td>4</td>\n",
       "      <td>2008</td>\n",
       "      <td>14279745</td>\n",
       "      <td>904169</td>\n",
       "      <td>0</td>\n",
       "      <td>2</td>\n",
       "    </tr>\n",
       "    <tr>\n",
       "      <th>1</th>\n",
       "      <td>345</td>\n",
       "      <td>4</td>\n",
       "      <td>2008</td>\n",
       "      <td>14279745</td>\n",
       "      <td>651562</td>\n",
       "      <td>0</td>\n",
       "      <td>2</td>\n",
       "    </tr>\n",
       "    <tr>\n",
       "      <th>10</th>\n",
       "      <td>138</td>\n",
       "      <td>0</td>\n",
       "      <td>2015</td>\n",
       "      <td>29208059</td>\n",
       "      <td>263451</td>\n",
       "      <td>1</td>\n",
       "      <td>1</td>\n",
       "    </tr>\n",
       "  </tbody>\n",
       "</table>\n",
       "</div>"
      ],
      "text/plain": [
       "        car_type  color  year        km  average_price  transmission  \\\n",
       "car_id                                                                 \n",
       "0            329      1  2020  25848512         194799             1   \n",
       "1            345      4  2008  14279745         230948             0   \n",
       "1            345      4  2008  14279745         904169             0   \n",
       "1            345      4  2008  14279745         651562             0   \n",
       "10           138      0  2015  29208059         263451             1   \n",
       "\n",
       "        body_type  \n",
       "car_id             \n",
       "0               1  \n",
       "1               2  \n",
       "1               2  \n",
       "1               2  \n",
       "10              1  "
      ]
     },
     "execution_count": 42,
     "metadata": {},
     "output_type": "execute_result"
    }
   ],
   "source": [
    "#verifiquemos el cambio\n",
    "X_test.head()"
   ]
  },
  {
   "cell_type": "markdown",
   "id": "da519d26",
   "metadata": {},
   "source": [
    "Puesto a que las variables categoricas pueden variar en cantidades significativas, por ejemplo\n",
    "typo de carro varian de 0 a almenos 348, estos rangos altos pueden ser problematicos para\n",
    "cualquier regresor, pues puede sesgar las decisiones de acuerdo a esta variabilidad, para evitar esto, realizamos una Normalizacion sobre los mismos.\n",
    "La normalizacion esta definida como $$X_{new} = \\frac{X_{actual} - X_{min}}{X_{max} - X_{min}}$$\n",
    "\n",
    "Lo mismo sucede con los valores continuos como año, km y averange price, sin embargo para estos emplearemos estandarizacion de los datos pues estos son continuos y pueden ser considerados como provenientes de una funcion de probabilidad gaussiana.\n",
    "La estandarizacion esta definida como $$X_{new} = \\frac{X_{actual}-\\mu}{\\sigma}$$, donde $\\mu$ es la media y $\\sigma$ es la desviacion estandar"
   ]
  },
  {
   "cell_type": "code",
   "execution_count": 43,
   "id": "c306d6e4",
   "metadata": {},
   "outputs": [],
   "source": [
    "#importamos funciones que nos permiten realizar estandarizacion y normalizacion de forma automatica\n",
    "from sklearn.preprocessing import MinMaxScaler\n",
    "from sklearn.preprocessing import StandardScaler\n",
    "#designamos una lista con los nombres de las columnas cuyos valores son continuos para poder iterar\n",
    "#sobre ellas\n",
    "numerical_data = ['year', 'km', 'average_price']\n",
    "#estandarizamos los datos correspondientes a las columnas con valores continuos\n",
    "for col in numerical_data:\n",
    "    #definimos y ajustamos un escalador, este escalador define la media y varianza de los valores\n",
    "    #presentes en la columna actual\n",
    "    scale = StandardScaler().fit(X_train[[col]])\n",
    "    X_train[col] = scale.fit_transform(X_train[[col]])\n",
    "    X_val[col] = scale.transform(X_val[[col]])\n",
    "    X_test[col] = scale.transform(X_test[[col]])\n",
    "\n",
    "#escalamos los datos categoricos al iterar sobre sus columnas\n",
    "for col in categorical_columns:\n",
    "     #definimos y ajustamos un normalizador, este normalizador obtiene los maximos y minimos de los valores\n",
    "    #presentes en la columna actual\n",
    "    norm = MinMaxScaler().fit(X_train[[col]])\n",
    "    X_train[col] = norm.transform(X_train[[col]])\n",
    "    X_val[col] = norm.transform(X_val[[col]])\n",
    "    X_test[col] = norm.transform(X_test[[col]])"
   ]
  },
  {
   "cell_type": "markdown",
   "id": "a6aa0d0f",
   "metadata": {},
   "source": [
    "## Model Selection\n",
    "\n",
    "En esta seccion emplearemos 3 modelos diferentes, los cuales han probado ser muy eficientes en cuanto a la regresion en diversos problemas de regresion. Estos modelos son Random Forest Regressor (propuesto originalmente), XGBoost Regressor y SGDRegressor.\n",
    "Comenzaremos mostrando la propuesta original para posteriormente emplear otro hiperparametro con el mismo modelo, finalmente presentamos los otros dos modelos.\n",
    "\n",
    "Cabe mencionar que se probaron otros algoritmos regresores muy conocidos, sin embargo, los valores en sus metricas eran mayores que los aquí presentados. Por estas razones y de espacio, no se reportan"
   ]
  },
  {
   "cell_type": "code",
   "execution_count": 44,
   "id": "2bdee311",
   "metadata": {},
   "outputs": [],
   "source": [
    "#replicamos los resultados del codigo anterior\n",
    "#instanciamos un random forest regressor, el modelo para ralizar la regresion sobre los datos\n",
    "#n_estimators corresponde a la cantidad de arboles o trees en el algoritmo. Una cantidad muy baja\n",
    "#como 1 no es recomendado pues el modelo no obtendra resultados optimos\n",
    "rf = RandomForestRegressor(n_estimators=1)\n",
    "#realizamos la regresion con el modelo random forest con 1 tree con los valores X_tarin Y_train\n",
    "rf.fit(X_train, Y_train)\n",
    "#obtenemos la prediccion segun el modelo recien entrenado, usando los valores de calidacion X_val\n",
    "preds = rf.predict(X_val)"
   ]
  },
  {
   "cell_type": "code",
   "execution_count": 45,
   "id": "65f75056",
   "metadata": {},
   "outputs": [
    {
     "data": {
      "image/png": "[encoded data removed]",
      "text/plain": [
       "<Figure size 432x288 with 1 Axes>"
      ]
     },
     "metadata": {
      "needs_background": "light"
     },
     "output_type": "display_data"
    }
   ],
   "source": [
    "#realizamos una grafica de dispersion donde en el eje X representaran los valores de las\n",
    "# preds, mientras que el eje Y representara a los valores reales Y_val.\n",
    "#el valor de alpha corresponde a que tan transparentes se veran los puntos, 0 transparente\n",
    "#1 opaco. s corresponde al tamaño que tendran los puntos en la grafica\n",
    "plt.scatter(preds, Y_val, alpha=.2,s=70)\n",
    "#En esta misma grafica, se grafica una recta con origen en cero y ordenada al origen cero\n",
    "#esto se hace para comparar los valores reales y de prediccion, un clasificador perfecto\n",
    "#hará que los puntos se encuentren sobre la linea, sin ninguna distancia que los separe\n",
    "#esta recta se presenta en color rojo\n",
    "plt.plot([0,100],[0,100], color='red')\n",
    "plt.xlabel('Predicción')\n",
    "plt.ylabel('Valor Real');"
   ]
  },
  {
   "cell_type": "code",
   "execution_count": 46,
   "id": "2a0f1cdc",
   "metadata": {},
   "outputs": [
    {
     "name": "stdout",
     "output_type": "stream",
     "text": [
      "MAPE: 1.2140519391087303\n",
      "RMSE: 17.245678108251163\n"
     ]
    }
   ],
   "source": [
    "#calculamos métricas que nos sugieren la efectividad del ajuste\n",
    "#MAPE: mean absolute percentage error: estima la distancia promedio entre valores reales y predichos\n",
    "print(f'MAPE: {((preds - Y_val).abs()/Y_val).mean()}')\n",
    "# RMSE: root mean squared error: estima la desviación estándar de la varianza inexplicable\n",
    "print(f'RMSE: {(((preds - Y_val)**2).mean())**.5}')"
   ]
  },
  {
   "cell_type": "code",
   "execution_count": 47,
   "id": "96a83297",
   "metadata": {},
   "outputs": [],
   "source": [
    "#instanciamos un random forest regressor, el modelo para ralizar la regresion sobre los datos\n",
    "#n_estimators corresponde a la cantidad de arboles o trees en el algoritmo. En esta ocasion\n",
    "#usamos n_stimators=1000\n",
    "rf_1 = RandomForestRegressor(n_estimators=1000)\n",
    "#entrenamos o ajustamos nuestro nuevo modelo a los datos de entrenamiento\n",
    "rf_1.fit(X_train, Y_train)\n",
    "#realizamos predicciones sobre los datos de validacion\n",
    "preds_rf_1 = rf_1.predict(X_val)"
   ]
  },
  {
   "cell_type": "code",
   "execution_count": 48,
   "id": "68787c50",
   "metadata": {},
   "outputs": [
    {
     "data": {
      "image/png": "[encoded data removed]",
      "text/plain": [
       "<Figure size 432x288 with 1 Axes>"
      ]
     },
     "metadata": {
      "needs_background": "light"
     },
     "output_type": "display_data"
    }
   ],
   "source": [
    "#graficamos los puntos de las predicciones del modelo rf_1 en funcion de los valores\n",
    "#reales, tal y como se hizo anteriormente\n",
    "plt.scatter(preds_rf_1, Y_val, alpha=.2, s=70)\n",
    "#graficamos la recta para poder obtener una idea intuitiva del ajuste\n",
    "plt.plot([0,100],[0,100], color='red')\n",
    "plt.xlabel('Predicción [días]')\n",
    "plt.ylabel('Valor Real [días]');"
   ]
  },
  {
   "cell_type": "code",
   "execution_count": 49,
   "id": "335d6f35",
   "metadata": {},
   "outputs": [
    {
     "name": "stdout",
     "output_type": "stream",
     "text": [
      "MAPE: 1.0256434713431897\n",
      "RMSE: 9.801392219977993\n"
     ]
    }
   ],
   "source": [
    "#calculamos las métricas MAPE y RMSE\n",
    "print(f'MAPE: {((preds_rf_1 - Y_val).abs()/Y_val).mean()}')\n",
    "print(f'RMSE: {(((preds_rf_1 - Y_val)**2).mean())**.5}')"
   ]
  },
  {
   "cell_type": "code",
   "execution_count": 50,
   "id": "111bcd5c",
   "metadata": {},
   "outputs": [],
   "source": [
    "#importamos librerias que definen una variente del algoritmo XGBoost\n",
    "from sklearn.ensemble import GradientBoostingRegressor\n",
    "#definimos el modelo basado en implementaciones de gradientboosting con la misma cantidad de \n",
    "#estimadores que el random forest reg (1000) para poder realizar comparacion justa\n",
    "gbr = GradientBoostingRegressor(n_estimators=1000,max_depth=7, alpha=0.1)\n",
    "#Ajustamos el modelo gbr usando los datos de entrenamiento\n",
    "gbr.fit(X_train, Y_train)\n",
    "#realizamos la predicciones sobre el conjunto de validacion\n",
    "preds_gbr = gbr.predict(X_val)"
   ]
  },
  {
   "cell_type": "code",
   "execution_count": 51,
   "id": "dc76be01",
   "metadata": {},
   "outputs": [
    {
     "data": {
      "image/png": "[encoded data removed]",
      "text/plain": [
       "<Figure size 432x288 with 1 Axes>"
      ]
     },
     "metadata": {
      "needs_background": "light"
     },
     "output_type": "display_data"
    }
   ],
   "source": [
    "#graficamos los puntos de las predicciones del modelo gbr en funcion de los valores\n",
    "#reales, tal y como se hizo anteriormente\n",
    "plt.scatter(preds_gbr, Y_val, alpha=.2, s=70)\n",
    "#graficamos la recta para poder obtener una idea intuitiva del ajuste\n",
    "plt.plot([0,100],[0,100], color='red')\n",
    "plt.xlabel('Predicción [días]')\n",
    "plt.ylabel('Valor Real [días]');"
   ]
  },
  {
   "cell_type": "code",
   "execution_count": 52,
   "id": "36d69a73",
   "metadata": {},
   "outputs": [
    {
     "name": "stdout",
     "output_type": "stream",
     "text": [
      "MAPE: 0.8693801046983892\n",
      "RMSE: 9.109494031680468\n"
     ]
    }
   ],
   "source": [
    "#calculamos las métricas MAPE y RMSE\n",
    "print(f'MAPE: {((preds_gbr - Y_val).abs()/Y_val).mean()}')\n",
    "print(f'RMSE: {(((preds_gbr - Y_val)**2).mean())**.5}')"
   ]
  },
  {
   "cell_type": "code",
   "execution_count": 53,
   "id": "f2158701",
   "metadata": {},
   "outputs": [],
   "source": [
    "#importamos librerias que definen el algoritmo SGD regressor\n",
    "from sklearn.linear_model import SGDRegressor\n",
    "#definimos el modelo basado en SGD regressor. La misma cantidad de estimadores no existe en este\n",
    "#pues no esta basado en arboles de decision\n",
    "s = SGDRegressor(loss='squared_epsilon_insensitive')\n",
    "#Ajustamos el modelo s usando los datos de entrenamiento\n",
    "s.fit(X_train, Y_train)\n",
    "#realizamos la predicciones sobre el conjunto de validacion\n",
    "preds_s = s.predict(X_val)"
   ]
  },
  {
   "cell_type": "code",
   "execution_count": 54,
   "id": "e3101272",
   "metadata": {},
   "outputs": [
    {
     "data": {
      "image/png": "[encoded data removed]",
      "text/plain": [
       "<Figure size 432x288 with 1 Axes>"
      ]
     },
     "metadata": {
      "needs_background": "light"
     },
     "output_type": "display_data"
    }
   ],
   "source": [
    "#graficamos los puntos de las predicciones del modelo s en funcion de los valores\n",
    "#reales, tal y como se hizo anteriormente\n",
    "plt.scatter(preds_s, Y_val, alpha=.2, s=70)\n",
    "#graficamos la recta para poder obtener una idea intuitiva del ajuste\n",
    "plt.plot([0,100],[0,100],color='red')\n",
    "plt.xlabel('Predicción [días]')\n",
    "plt.ylabel('Valor Real [días]');"
   ]
  },
  {
   "cell_type": "code",
   "execution_count": 55,
   "id": "bd6fbe80",
   "metadata": {},
   "outputs": [
    {
     "name": "stdout",
     "output_type": "stream",
     "text": [
      "MAPE: 1.8874458886569063\n",
      "RMSE: 16.56422629131206\n"
     ]
    }
   ],
   "source": [
    "#calculamos las métricas MAPE y RMSE\n",
    "print(f'MAPE: {((preds_s - Y_val).abs()/Y_val).mean()}')\n",
    "print(f'RMSE: {(((preds_s - Y_val)**2).mean())**.5}')"
   ]
  },
  {
   "cell_type": "code",
   "execution_count": 56,
   "id": "858d4c42",
   "metadata": {},
   "outputs": [
    {
     "name": "stdout",
     "output_type": "stream",
     "text": [
      "Requirement already satisfied: xgboost in c:\\programdata\\anaconda3\\lib\\site-packages (1.4.2)"
     ]
    },
    {
     "name": "stderr",
     "output_type": "stream",
     "text": [
      "WARNING: Ignoring invalid distribution -umpy (c:\\programdata\\anaconda3\\lib\\site-packages)\n",
      "WARNING: Ignoring invalid distribution -f-nightly (c:\\programdata\\anaconda3\\lib\\site-packages)\n",
      "WARNING: Ignoring invalid distribution -cikit-learn (c:\\programdata\\anaconda3\\lib\\site-packages)\n",
      "WARNING: Ignoring invalid distribution -umpy (c:\\programdata\\anaconda3\\lib\\site-packages)\n",
      "WARNING: Ignoring invalid distribution -f-nightly (c:\\programdata\\anaconda3\\lib\\site-packages)\n",
      "WARNING: Ignoring invalid distribution -cikit-learn (c:\\programdata\\anaconda3\\lib\\site-packages)\n",
      "WARNING: Ignoring invalid distribution -umpy (c:\\programdata\\anaconda3\\lib\\site-packages)\n",
      "WARNING: Ignoring invalid distribution -f-nightly (c:\\programdata\\anaconda3\\lib\\site-packages)\n",
      "WARNING: Ignoring invalid distribution -cikit-learn (c:\\programdata\\anaconda3\\lib\\site-packages)\n",
      "WARNING: Ignoring invalid distribution -umpy (c:\\programdata\\anaconda3\\lib\\site-packages)\n",
      "WARNING: Ignoring invalid distribution -f-nightly (c:\\programdata\\anaconda3\\lib\\site-packages)\n",
      "WARNING: Ignoring invalid distribution -cikit-learn (c:\\programdata\\anaconda3\\lib\\site-packages)\n",
      "WARNING: Ignoring invalid distribution -umpy (c:\\programdata\\anaconda3\\lib\\site-packages)\n",
      "WARNING: Ignoring invalid distribution -f-nightly (c:\\programdata\\anaconda3\\lib\\site-packages)\n",
      "WARNING: Ignoring invalid distribution -cikit-learn (c:\\programdata\\anaconda3\\lib\\site-packages)\n"
     ]
    },
    {
     "name": "stdout",
     "output_type": "stream",
     "text": [
      "\n",
      "Requirement already satisfied: scipy in c:\\programdata\\anaconda3\\lib\\site-packages (from xgboost) (1.6.2)\n",
      "Requirement already satisfied: numpy in c:\\programdata\\anaconda3\\lib\\site-packages (from xgboost) (1.20.2)\n"
     ]
    }
   ],
   "source": [
    "#Existe una implementacion del algoritmo XGBoost, el cual asegura ser mas rapido que la \n",
    "#implementacion de scikit y ademas emplea metodos de regularizacion sobre los arboles para\n",
    "#evitar el sobreajuste. Esta implementacion se encuentra en la libreria xgboost. La cual a\n",
    "#continuacion instalamos\n",
    "!pip install xgboost"
   ]
  },
  {
   "cell_type": "code",
   "execution_count": 57,
   "id": "cf30663b",
   "metadata": {},
   "outputs": [],
   "source": [
    "#importamos la libreria xgboost\n",
    "import xgboost\n",
    "#instanciamos el modelo xgboost, con n_estimators=1000 para realizar comparaciones justas\n",
    "xgb = xgboost.XGBRegressor(n_estimators=1000, max_depth=25, eta=0.1, subsample=0.7, colsample_bytree=0.8)\n",
    "#Ajustamos el modelo xgb usando los datos de entrenamiento\n",
    "xgb.fit(X_train, Y_train)\n",
    "#realizamos la predicciones sobre el conjunto de validacion\n",
    "preds_xgb = xgb.predict(X_val)"
   ]
  },
  {
   "cell_type": "code",
   "execution_count": 58,
   "id": "f5526bc7",
   "metadata": {},
   "outputs": [
    {
     "data": {
      "image/png": "[encoded data removed]",
      "text/plain": [
       "<Figure size 432x288 with 1 Axes>"
      ]
     },
     "metadata": {
      "needs_background": "light"
     },
     "output_type": "display_data"
    }
   ],
   "source": [
    "#graficamos los puntos de las predicciones del modelo xgb en funcion de los valores\n",
    "#reales, tal y como se hizo anteriormente\n",
    "plt.scatter(preds_xgb, Y_val, alpha=.2, s=70)\n",
    "#graficamos la recta para poder obtener una idea intuitiva del ajuste\n",
    "plt.plot([0,100],[0,100], color='red')\n",
    "plt.xlabel('Predicción [días]')\n",
    "plt.ylabel('Valor Real [días]');"
   ]
  },
  {
   "cell_type": "code",
   "execution_count": 59,
   "id": "90f55efb",
   "metadata": {},
   "outputs": [
    {
     "name": "stdout",
     "output_type": "stream",
     "text": [
      "MAPE: 0.6187794763694163\n",
      "RMSE: 6.647011472574756\n"
     ]
    }
   ],
   "source": [
    "#calculamos las métricas MAPE y RMSE\n",
    "print(f'MAPE: {((preds_xgb - Y_val).abs()/Y_val).mean()}')\n",
    "print(f'RMSE: {(((preds_xgb - Y_val)**2).mean())**.5}')"
   ]
  },
  {
   "cell_type": "markdown",
   "id": "5b600ff4",
   "metadata": {},
   "source": [
    "## Report"
   ]
  },
  {
   "cell_type": "code",
   "execution_count": 60,
   "id": "de6c8071",
   "metadata": {},
   "outputs": [],
   "source": [
    "#generamos las predicciones sobre nuestro conjunto de prueba X_test\n",
    "preds_test = xgb.predict(X_test)\n",
    "#obtenemos los indices de X_test\n",
    "preds_test_index = X_test.index.values"
   ]
  },
  {
   "cell_type": "code",
   "execution_count": 61,
   "id": "00cbaaf7",
   "metadata": {},
   "outputs": [
    {
     "data": {
      "text/html": [
       "<div>\n",
       "<style scoped>\n",
       "    .dataframe tbody tr th:only-of-type {\n",
       "        vertical-align: middle;\n",
       "    }\n",
       "\n",
       "    .dataframe tbody tr th {\n",
       "        vertical-align: top;\n",
       "    }\n",
       "\n",
       "    .dataframe thead th {\n",
       "        text-align: right;\n",
       "    }\n",
       "</style>\n",
       "<table border=\"1\" class=\"dataframe\">\n",
       "  <thead>\n",
       "    <tr style=\"text-align: right;\">\n",
       "      <th></th>\n",
       "      <th>car_id</th>\n",
       "      <th>di</th>\n",
       "    </tr>\n",
       "  </thead>\n",
       "  <tbody>\n",
       "    <tr>\n",
       "      <th>0</th>\n",
       "      <td>0</td>\n",
       "      <td>17.531134</td>\n",
       "    </tr>\n",
       "    <tr>\n",
       "      <th>1</th>\n",
       "      <td>1</td>\n",
       "      <td>17.961164</td>\n",
       "    </tr>\n",
       "    <tr>\n",
       "      <th>2</th>\n",
       "      <td>1</td>\n",
       "      <td>10.139625</td>\n",
       "    </tr>\n",
       "    <tr>\n",
       "      <th>3</th>\n",
       "      <td>1</td>\n",
       "      <td>15.737669</td>\n",
       "    </tr>\n",
       "    <tr>\n",
       "      <th>4</th>\n",
       "      <td>10</td>\n",
       "      <td>20.735220</td>\n",
       "    </tr>\n",
       "  </tbody>\n",
       "</table>\n",
       "</div>"
      ],
      "text/plain": [
       "   car_id         di\n",
       "0       0  17.531134\n",
       "1       1  17.961164\n",
       "2       1  10.139625\n",
       "3       1  15.737669\n",
       "4      10  20.735220"
      ]
     },
     "execution_count": 61,
     "metadata": {},
     "output_type": "execute_result"
    }
   ],
   "source": [
    "#creamos un dataframe a partir de estos valores\n",
    "preds_test_df = pd.DataFrame({'car_id': preds_test_index , 'di': preds_test})\n",
    "#mostramos los primeros cinco elementos\n",
    "preds_test_df.head(5)"
   ]
  },
  {
   "cell_type": "code",
   "execution_count": 62,
   "id": "a5188414",
   "metadata": {},
   "outputs": [],
   "source": [
    "#guardamos nuestro dataframe de predicciones sobre x_test en un archivo .csv\n",
    "preds_test_df.to_csv('submission.csv', index=None)"
   ]
  },
  {
   "cell_type": "markdown",
   "id": "d7f034ec",
   "metadata": {},
   "source": [
    "Nota: La variacion de XGBoost implementada por scikit (modelo gbr) no es efectiva al considerar max_depth=50, el tiempo de convergencia aumenta y las metricas no mejoran. Por esta razon se incluye unicamente el resultado con max_depth=7"
   ]
  },
  {
   "cell_type": "markdown",
   "id": "d4634c24",
   "metadata": {},
   "source": [
    "De este pequeño analisis observamos, que como es de esperar, el tiempo de convergencia es diferente para cada modelo. Sin embargo, para ninguno de ellos este tiempo no es excesivamente grande, tomando a lo mas 3 minutos en una maquina con procesador ryzen 5 5600X, 16Gb de memoria RAM y memoria ssd nvme.\n",
    "\n",
    "De estas pruebas, concluimos que el mejor modelo es XGBoost (implementado por la libreria xgboost), pues los valores MAPE y RMSE son menores comparados con los otros modelos y la visualizacion de la grafica de los valores predichos en funcion a los valores es mucho mas consistente comparada con las graficas de otros modelos.\n",
    "\n",
    "De esta manera, hemos logrado una diferencia de 0.5155 puntos con respecto ael valor MAPE, que corresponde al 45.4% y una diferencia de 10.329 puntos con respecto al valor RMSE, que corresponde al 60.8%, comparado con el ajuste del codigo original.\n",
    "\n",
    "Al compararlo con random forest con 1000 estimadores se obtienen las diferencias de 0.4054 (39.6%) y 3.129 (32.0%) puntos en los valores MAPE y RMSE respectivamente\n",
    "\n",
    "Al compararlo con la variacion XGBoost de scikitlearn se obtienen las diferencias de 0.2529 (29.0%) y 2.499 (27.32%) puntos en los valores MAPE y RMSE respectivamente"
   ]
  },
  {
   "cell_type": "markdown",
   "id": "2f12b47f",
   "metadata": {},
   "source": [
    "# Propuestas / modificaciones"
   ]
  },
  {
   "cell_type": "markdown",
   "id": "7cdb82d2",
   "metadata": {},
   "source": [
    "A pesar de que hemos mejorado significativamente el modelo, aún quedan cosas por hacer.\n",
    "\n",
    "Atendiendo a las preocupaciones de los clientes o interesados, efectivamente existen variables o informacion que podria mejorar el rendimiento del modelo, estas variables son la marca y modelo de los automobiles, que anteriormente se tomó como una sola variable categorica. Por lo que al separar ambas podriamos obtener rendimientos superiores.\n",
    "\n",
    "Esto lo haremos a continuacion."
   ]
  },
  {
   "cell_type": "code",
   "execution_count": 63,
   "id": "9aa41ca7",
   "metadata": {},
   "outputs": [
    {
     "data": {
      "text/html": [
       "<div>\n",
       "<style scoped>\n",
       "    .dataframe tbody tr th:only-of-type {\n",
       "        vertical-align: middle;\n",
       "    }\n",
       "\n",
       "    .dataframe tbody tr th {\n",
       "        vertical-align: top;\n",
       "    }\n",
       "\n",
       "    .dataframe thead th {\n",
       "        text-align: right;\n",
       "    }\n",
       "</style>\n",
       "<table border=\"1\" class=\"dataframe\">\n",
       "  <thead>\n",
       "    <tr style=\"text-align: right;\">\n",
       "      <th></th>\n",
       "      <th>car_brand</th>\n",
       "      <th>car_model</th>\n",
       "    </tr>\n",
       "    <tr>\n",
       "      <th>car_id</th>\n",
       "      <th></th>\n",
       "      <th></th>\n",
       "    </tr>\n",
       "  </thead>\n",
       "  <tbody>\n",
       "    <tr>\n",
       "      <th>6</th>\n",
       "      <td>lincoln</td>\n",
       "      <td>mkx</td>\n",
       "    </tr>\n",
       "    <tr>\n",
       "      <th>6</th>\n",
       "      <td>lincoln</td>\n",
       "      <td>mkx</td>\n",
       "    </tr>\n",
       "    <tr>\n",
       "      <th>6</th>\n",
       "      <td>lincoln</td>\n",
       "      <td>mkx</td>\n",
       "    </tr>\n",
       "    <tr>\n",
       "      <th>8</th>\n",
       "      <td>bmw</td>\n",
       "      <td>x6</td>\n",
       "    </tr>\n",
       "    <tr>\n",
       "      <th>8</th>\n",
       "      <td>bmw</td>\n",
       "      <td>x6</td>\n",
       "    </tr>\n",
       "  </tbody>\n",
       "</table>\n",
       "</div>"
      ],
      "text/plain": [
       "       car_brand car_model\n",
       "car_id                    \n",
       "6        lincoln       mkx\n",
       "6        lincoln       mkx\n",
       "6        lincoln       mkx\n",
       "8            bmw        x6\n",
       "8            bmw        x6"
      ]
     },
     "execution_count": 63,
     "metadata": {},
     "output_type": "execute_result"
    }
   ],
   "source": [
    "#Tomaremos el conjunto X, pues este contiene toda la informacion relevante\n",
    "#lo modificaremos a modo de que sea posible separar por marca y modelo la informacion\n",
    "#en car_type, esto se realiza mediante la funcion split.(patron=_)\n",
    "splited_data_car = X['car_type'].str.split(pat='_',expand=True)\n",
    "\n",
    "#renombramos las columnas\n",
    "splited_data_car.columns = ['car_brand', 'car_model']\n",
    "\n",
    "#mostremos nuestro dataframe que contiene la informacion separada\n",
    "splited_data_car.head()"
   ]
  },
  {
   "cell_type": "code",
   "execution_count": 64,
   "id": "13c70b8e",
   "metadata": {},
   "outputs": [],
   "source": [
    "#asignamos las dos nuevas columnas a X, el metodo de asignacion es totalmente valido pues no se\n",
    "#modifico el orden de aparicion\n",
    "X['car_brand'] = splited_data_car['car_brand']\n",
    "X['car_model'] = splited_data_car['car_model']"
   ]
  },
  {
   "cell_type": "code",
   "execution_count": 65,
   "id": "00517590",
   "metadata": {},
   "outputs": [],
   "source": [
    "#Ahora, busquemos si este dataframe modificado contiene valores vacios en cada una de sus columnas\n",
    "#en caso positivo, intercambiemos esos valores por np.nan para posteriormente desecharlos\n",
    "X.replace('\\s+', np.nan, inplace=True, regex=True)"
   ]
  },
  {
   "cell_type": "code",
   "execution_count": 66,
   "id": "347d2417",
   "metadata": {},
   "outputs": [
    {
     "data": {
      "text/plain": [
       "car_type            0\n",
       "color               0\n",
       "year                0\n",
       "km                  0\n",
       "average_price       0\n",
       "transmission        0\n",
       "body_type           0\n",
       "car_brand           0\n",
       "car_model        3037\n",
       "dtype: int64"
      ]
     },
     "execution_count": 66,
     "metadata": {},
     "output_type": "execute_result"
    }
   ],
   "source": [
    "#Veamos la cuenta de la cantidad de valores nan en este nuevo data set\n",
    "X.isnull().sum()"
   ]
  },
  {
   "cell_type": "code",
   "execution_count": 67,
   "id": "d0d3976e",
   "metadata": {},
   "outputs": [
    {
     "data": {
      "text/plain": [
       "car_type         0\n",
       "color            0\n",
       "year             0\n",
       "km               0\n",
       "average_price    0\n",
       "transmission     0\n",
       "body_type        0\n",
       "car_brand        0\n",
       "car_model        0\n",
       "dtype: int64"
      ]
     },
     "execution_count": 67,
     "metadata": {},
     "output_type": "execute_result"
    }
   ],
   "source": [
    "#puesto a que estamos interesados en las variables categoricas modelo y marca\n",
    "#no tiene sentido usar valores nan en car_model pues sabemos que la gran mayoria de marcas de\n",
    "#autos tienen una cantidad determinada de modelos. Este es un error de asignacion y debe ser\n",
    "#arreglado\n",
    "\n",
    "#nos deshacemos de las filas que contienen valores np.nan con la funcion dropna\n",
    "X.dropna(inplace=True)\n",
    "\n",
    "#comprobamos el cambio\n",
    "X.isnull().sum()"
   ]
  },
  {
   "cell_type": "code",
   "execution_count": 68,
   "id": "b774074b",
   "metadata": {},
   "outputs": [
    {
     "data": {
      "text/plain": [
       "color            string\n",
       "year              int64\n",
       "km                int64\n",
       "average_price     int64\n",
       "transmission     string\n",
       "body_type        string\n",
       "car_brand        string\n",
       "car_model        string\n",
       "dtype: object"
      ]
     },
     "execution_count": 68,
     "metadata": {},
     "output_type": "execute_result"
    }
   ],
   "source": [
    "#nos deshacemos de la columna car_type pues ya no es util\n",
    "X.drop('car_type', axis=1, inplace=True)\n",
    "\n",
    "#Comprobamos los tipos de X\n",
    "X.dtypes"
   ]
  },
  {
   "cell_type": "code",
   "execution_count": 69,
   "id": "e2bf9066",
   "metadata": {},
   "outputs": [
    {
     "data": {
      "text/html": [
       "<div>\n",
       "<style scoped>\n",
       "    .dataframe tbody tr th:only-of-type {\n",
       "        vertical-align: middle;\n",
       "    }\n",
       "\n",
       "    .dataframe tbody tr th {\n",
       "        vertical-align: top;\n",
       "    }\n",
       "\n",
       "    .dataframe thead th {\n",
       "        text-align: right;\n",
       "    }\n",
       "</style>\n",
       "<table border=\"1\" class=\"dataframe\">\n",
       "  <thead>\n",
       "    <tr style=\"text-align: right;\">\n",
       "      <th></th>\n",
       "      <th>color</th>\n",
       "      <th>year</th>\n",
       "      <th>km</th>\n",
       "      <th>average_price</th>\n",
       "      <th>transmission</th>\n",
       "      <th>body_type</th>\n",
       "      <th>car_brand</th>\n",
       "      <th>car_model</th>\n",
       "    </tr>\n",
       "    <tr>\n",
       "      <th>car_id</th>\n",
       "      <th></th>\n",
       "      <th></th>\n",
       "      <th></th>\n",
       "      <th></th>\n",
       "      <th></th>\n",
       "      <th></th>\n",
       "      <th></th>\n",
       "      <th></th>\n",
       "    </tr>\n",
       "  </thead>\n",
       "  <tbody>\n",
       "    <tr>\n",
       "      <th>6</th>\n",
       "      <td>red</td>\n",
       "      <td>2010</td>\n",
       "      <td>4919877</td>\n",
       "      <td>722375</td>\n",
       "      <td>automatic</td>\n",
       "      <td>sedan</td>\n",
       "      <td>lincoln</td>\n",
       "      <td>mkx</td>\n",
       "    </tr>\n",
       "    <tr>\n",
       "      <th>6</th>\n",
       "      <td>red</td>\n",
       "      <td>2010</td>\n",
       "      <td>4919877</td>\n",
       "      <td>144560</td>\n",
       "      <td>automatic</td>\n",
       "      <td>sedan</td>\n",
       "      <td>lincoln</td>\n",
       "      <td>mkx</td>\n",
       "    </tr>\n",
       "    <tr>\n",
       "      <th>6</th>\n",
       "      <td>red</td>\n",
       "      <td>2010</td>\n",
       "      <td>4919877</td>\n",
       "      <td>568740</td>\n",
       "      <td>automatic</td>\n",
       "      <td>coupe</td>\n",
       "      <td>lincoln</td>\n",
       "      <td>mkx</td>\n",
       "    </tr>\n",
       "    <tr>\n",
       "      <th>8</th>\n",
       "      <td>blue</td>\n",
       "      <td>2019</td>\n",
       "      <td>27968216</td>\n",
       "      <td>521312</td>\n",
       "      <td>automatic</td>\n",
       "      <td>sedan</td>\n",
       "      <td>bmw</td>\n",
       "      <td>x6</td>\n",
       "    </tr>\n",
       "    <tr>\n",
       "      <th>8</th>\n",
       "      <td>blue</td>\n",
       "      <td>2019</td>\n",
       "      <td>27968216</td>\n",
       "      <td>279085</td>\n",
       "      <td>automatic</td>\n",
       "      <td>sedan</td>\n",
       "      <td>bmw</td>\n",
       "      <td>x6</td>\n",
       "    </tr>\n",
       "  </tbody>\n",
       "</table>\n",
       "</div>"
      ],
      "text/plain": [
       "       color  year        km  average_price transmission body_type car_brand  \\\n",
       "car_id                                                                         \n",
       "6        red  2010   4919877         722375    automatic     sedan   lincoln   \n",
       "6        red  2010   4919877         144560    automatic     sedan   lincoln   \n",
       "6        red  2010   4919877         568740    automatic     coupe   lincoln   \n",
       "8       blue  2019  27968216         521312    automatic     sedan       bmw   \n",
       "8       blue  2019  27968216         279085    automatic     sedan       bmw   \n",
       "\n",
       "       car_model  \n",
       "car_id            \n",
       "6            mkx  \n",
       "6            mkx  \n",
       "6            mkx  \n",
       "8             x6  \n",
       "8             x6  "
      ]
     },
     "execution_count": 69,
     "metadata": {},
     "output_type": "execute_result"
    }
   ],
   "source": [
    "#mostremos nuestro conjunto X modificado\n",
    "X.head(5)"
   ]
  },
  {
   "cell_type": "code",
   "execution_count": 70,
   "id": "eeb3afe9",
   "metadata": {},
   "outputs": [],
   "source": [
    "#procedamos a crear nuevos conjuntos de validacion y prueba\n",
    "#A partir de X creamos los conjuntos de entrenamiento y validacion, con las proporciones\n",
    "#80% y 20% respectivamente, estas porciones se toman aleatoriamente de X con la funcion .sample(frac=porcion)\n",
    "X_train = X.sample(frac=0.8, random_state=2021)\n",
    "X_val = X.sample(frac=0.1, random_state=2021)\n",
    "\n",
    "#Creamos las variables dependientes de cada uno de los autos, estas variables son solamente\n",
    "#la cantidad de dias, al conjunto de estas variables lo llamaremos Y_train y Y_test\n",
    "#y ajustaremos los indices a car_id, y se copiamos los dias a sus respectivos conjuntos (train o val)\n",
    "#con la funcion .loc[conjunto.indice].dias\n",
    "Y_train = car_series_days.set_index('car_id').loc[X_train.index].day\n",
    "Y_val = car_series_days.set_index('car_id').loc[X_val.index].day"
   ]
  },
  {
   "cell_type": "code",
   "execution_count": 71,
   "id": "35c6c385",
   "metadata": {},
   "outputs": [],
   "source": [
    "#Transformemos nuevamente nuestras variables categoricas en numericas\n",
    "#tal y como se hizo anteriormente\n",
    "#Para hacer esto instanciamos la herramienta de scikit LabelEncoder(), la cual puede\n",
    "#transformar las variables categoricas en numericas de forma automatica\n",
    "cat_enc = LabelEncoder()\n",
    "\n",
    "#para poder iterar y transformar las variables presentes en el dataset creamos una\n",
    "#lista que contiene los nombres de dichas variables, en el codigo original\n",
    "#el año era tratado como una variable categorica, sin embargo esto no es asi,\n",
    "#la variable año es discreta y continua, por lo que no lo consideramos en esta\n",
    "#transformacion\n",
    "categorical_columns = ['color', 'transmission', 'body_type', 'car_brand','car_model']\n",
    "\n",
    "#iteramos sobre las columnas de los conjuntos X_val, X_train y X_test para realizar\n",
    "#dicha transformacion, siendo estas transformacion realizadas al llamar el metodo \n",
    "#fit transform de la clase LabelEncoder() \n",
    "for col in categorical_columns:\n",
    "    X_train[col] = cat_enc.fit_transform(X_train[col])\n",
    "    X_val[col] = cat_enc.fit_transform(X_val[col])"
   ]
  },
  {
   "cell_type": "code",
   "execution_count": 72,
   "id": "6262564c",
   "metadata": {},
   "outputs": [],
   "source": [
    "#REgularicemos y estandaricemos nuestros datos\n",
    "#designamos una lista con los nombres de las columnas cuyos valores son continuos para poder iterar\n",
    "#sobre ellas\n",
    "numerical_data = ['year', 'km', 'average_price']\n",
    "#estandarizamos los datos correspondientes a las columnas con valores continuos\n",
    "for col in numerical_data:\n",
    "    #definimos y ajustamos un escalador, este escalador define la media y varianza de los valores\n",
    "    #presentes en la columna actual\n",
    "    scale = StandardScaler().fit(X_train[[col]])\n",
    "    X_train[col] = scale.fit_transform(X_train[[col]])\n",
    "    X_val[col] = scale.transform(X_val[[col]])\n",
    "    \n",
    "#escalamos los datos categoricos al iterar sobre sus columnas\n",
    "for col in categorical_columns:\n",
    "     #definimos y ajustamos un normalizador, este normalizador obtiene los maximos y minimos de los valores\n",
    "    #presentes en la columna actual\n",
    "    norm = MinMaxScaler().fit(X_train[[col]])\n",
    "    X_train[col] = norm.transform(X_train[[col]])\n",
    "    X_val[col] = norm.transform(X_val[[col]])"
   ]
  },
  {
   "cell_type": "code",
   "execution_count": 73,
   "id": "8b55eba2",
   "metadata": {},
   "outputs": [
    {
     "data": {
      "image/png": "[encoded data removed]",
      "text/plain": [
       "<Figure size 864x648 with 2 Axes>"
      ]
     },
     "metadata": {
      "needs_background": "light"
     },
     "output_type": "display_data"
    }
   ],
   "source": [
    "#visualicemos ahora el mapa de correlaciones, esto es especialmente util para conocer\n",
    "#la correlacion entre los datos, que en algunas ocasiones nos permite reducir la dimensionalidad\n",
    "corrmat = X_train.corr()\n",
    "f, ax = plt.subplots(figsize=(12, 9))\n",
    "sns.heatmap(corrmat, vmax=.8, square=True);"
   ]
  },
  {
   "cell_type": "code",
   "execution_count": 74,
   "id": "e616c3fe",
   "metadata": {},
   "outputs": [],
   "source": [
    "#instanciamos el modelo xgboost, con n_estimators=1000 para realizar comparaciones justas\n",
    "xgb_new = xgboost.XGBRegressor(n_estimators=1000, max_depth=25, eta=0.1, subsample=0.7, colsample_bytree=0.8)\n",
    "#Ajustamos el modelo xgb usando los datos de entrenamiento\n",
    "xgb_new.fit(X_train, Y_train)\n",
    "#realizamos la predicciones sobre el conjunto de validacion\n",
    "preds_xgb_new = xgb_new.predict(X_val)"
   ]
  },
  {
   "cell_type": "code",
   "execution_count": 75,
   "id": "f2eb5e3a",
   "metadata": {},
   "outputs": [
    {
     "data": {
      "image/png": "[encoded data removed]",
      "text/plain": [
       "<Figure size 432x288 with 1 Axes>"
      ]
     },
     "metadata": {
      "needs_background": "light"
     },
     "output_type": "display_data"
    }
   ],
   "source": [
    "#graficamos los puntos de las predicciones del modelo xgb en funcion de los valores\n",
    "#reales, tal y como se hizo anteriormente\n",
    "plt.scatter(preds_xgb_new, Y_val, alpha=.2, s=70)\n",
    "#graficamos la recta para poder obtener una idea intuitiva del ajuste\n",
    "plt.plot([0,100],[0,100], color='red')\n",
    "plt.xlabel('Predicción [días]')\n",
    "plt.ylabel('Valor Real [días]');"
   ]
  },
  {
   "cell_type": "code",
   "execution_count": 76,
   "id": "26cf161f",
   "metadata": {},
   "outputs": [
    {
     "name": "stdout",
     "output_type": "stream",
     "text": [
      "MAPE: 0.6756925402802717\n",
      "RMSE: 7.290429054899437\n"
     ]
    }
   ],
   "source": [
    "#calculamos las métricas MAPE y RMSE\n",
    "print(f'MAPE: {((preds_xgb_new - Y_val).abs()/Y_val).mean()}')\n",
    "print(f'RMSE: {(((preds_xgb_new - Y_val)**2).mean())**.5}')"
   ]
  },
  {
   "cell_type": "markdown",
   "id": "71e242bb",
   "metadata": {},
   "source": [
    "De aquí que la hipotesis de separar la informacion por marca y modelo debe ser desechada, pues los resultados obtenidos son ligeramente peores que cuando se considera marca y modelo como una sola entidad"
   ]
  },
  {
   "cell_type": "markdown",
   "id": "9331cf70",
   "metadata": {},
   "source": [
    "## Palabras finales / conclusiones"
   ]
  },
  {
   "cell_type": "markdown",
   "id": "7d5a73dd",
   "metadata": {},
   "source": [
    "* 1) El análisis, original, presentado a los clientes efectivamente subestimaba el valor DI, pues el modelo de regresion (Random Forest) estaba implementando un único árbol o estimador, lo cual no logra producir resultados óptimos. Esto logró subsanarse al incrementar el valor de los estimadores, produciendose así errores menores que a los originales y consistentes.\n",
    "\n",
    "* 1.a) En el código original se cometieron varios errores, siendo el mayor la suposición de que todos los datasets se encontraban limpios y sin errores.  Sin embargo, esto no es así, por lo que en este código NO realizamos estas suposiciones y procedimos a limpiar los datasets. Excepto para aquellos casos para los caules no tenemos acceso directo, por ejemplo pueden presentarse en estos datasets un modelo o marca de auto que no existe. Para solucionar este tipo de problemas se requiere de un catalogo generalizado.\n",
    "\n",
    "* 2) Este código se desarrolló pensando en los clientes, quiénes podrían no tener experiencia en la programación, por esta razón, cada linea de codigo se encuentra comentada, procurando ser breves y claros.\n",
    "\n",
    "* 3) Hemos demostrado que agregar más información, disponible, en estos datasets, tal como separar la descripcion de cada auto en modelo y marca, incrementa el error a comparación de cuando estas características se consideran como un sólo ente. Por lo que para mejorar el modelo, podría agregarse las variaciones de precio, hasta que un auto fue finalmente vendido, además podría agregarse un estudo que relacione las preferencias globales del conjunto de clientes, con respecto a modelo y marca, siendo esta una posible variable de importancia.\n",
    "\n",
    "* 3.1) A diferencia de agregar nuevas variables a nuestros datos, también, para mejorar el modelo, pueden implementarse técnicas de aprendizaje de máquinas que permiten esto. Como sugerencia: Puede realizarse un ajuste de hiperparámetros sobre el mejor modelo. Agregarse la técnica de validación cruzada, estudiar los mejores métodos de regularización para el problema en sí y ademas agregarse más métricas de evaluación para tener una visión más general.\n",
    "\n",
    "* El reporte de clasificación fue generado usando el mejor modelo, que en este caso fue XGBoost."
   ]
  }
 ],
 "metadata": {
  "kernelspec": {
   "display_name": "Python 3",
   "language": "python",
   "name": "python3"
  },
  "language_info": {
   "codemirror_mode": {
    "name": "ipython",
    "version": 3
   },
   "file_extension": ".py",
   "mimetype": "text/x-python",
   "name": "python",
   "nbconvert_exporter": "python",
   "pygments_lexer": "ipython3",
   "version": "3.8.10"
  }
 },
 "nbformat": 4,
 "nbformat_minor": 5
}
